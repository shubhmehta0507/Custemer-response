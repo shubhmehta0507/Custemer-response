{
 "cells": [
  {
   "cell_type": "code",
   "execution_count": 36,
   "metadata": {},
   "outputs": [],
   "source": [
    "import pandas as pd\n",
    "import numpy as np"
   ]
  },
  {
   "cell_type": "code",
   "execution_count": 38,
   "metadata": {},
   "outputs": [
    {
     "data": {
      "text/html": [
       "<div>\n",
       "<style scoped>\n",
       "    .dataframe tbody tr th:only-of-type {\n",
       "        vertical-align: middle;\n",
       "    }\n",
       "\n",
       "    .dataframe tbody tr th {\n",
       "        vertical-align: top;\n",
       "    }\n",
       "\n",
       "    .dataframe thead th {\n",
       "        text-align: right;\n",
       "    }\n",
       "</style>\n",
       "<table border=\"1\" class=\"dataframe\">\n",
       "  <thead>\n",
       "    <tr style=\"text-align: right;\">\n",
       "      <th></th>\n",
       "      <th>Unnamed: 0</th>\n",
       "      <th>Complaint_ID</th>\n",
       "      <th>Date received</th>\n",
       "      <th>Product</th>\n",
       "      <th>Sub-product</th>\n",
       "      <th>Issue</th>\n",
       "      <th>Sub-issue</th>\n",
       "      <th>Consumer complaint narrative</th>\n",
       "      <th>Company public response</th>\n",
       "      <th>Company</th>\n",
       "      <th>State</th>\n",
       "      <th>ZIP code</th>\n",
       "      <th>Tags</th>\n",
       "      <th>Consumer consent provided?</th>\n",
       "      <th>Submitted via</th>\n",
       "      <th>Date sent to company</th>\n",
       "      <th>Company response to consumer</th>\n",
       "      <th>Consumer disputed?</th>\n",
       "      <th>Timely response?</th>\n",
       "    </tr>\n",
       "  </thead>\n",
       "  <tbody>\n",
       "    <tr>\n",
       "      <th>0</th>\n",
       "      <td>0</td>\n",
       "      <td>2535701</td>\n",
       "      <td>6/8/2017</td>\n",
       "      <td>Mortgage</td>\n",
       "      <td>Conventional home mortgage</td>\n",
       "      <td>Struggling to pay mortgage</td>\n",
       "      <td>NaN</td>\n",
       "      <td>NaN</td>\n",
       "      <td>NaN</td>\n",
       "      <td>Caliber Home Loans, Inc.</td>\n",
       "      <td>FL</td>\n",
       "      <td>34744</td>\n",
       "      <td>NaN</td>\n",
       "      <td>NaN</td>\n",
       "      <td>Fax</td>\n",
       "      <td>6/12/2017</td>\n",
       "      <td>Closed with explanation</td>\n",
       "      <td>NaN</td>\n",
       "      <td>Yes</td>\n",
       "    </tr>\n",
       "    <tr>\n",
       "      <th>1</th>\n",
       "      <td>1</td>\n",
       "      <td>3314889</td>\n",
       "      <td>7/22/2019</td>\n",
       "      <td>Credit card or prepaid card</td>\n",
       "      <td>General-purpose credit card or charge card</td>\n",
       "      <td>Problem with a purchase shown on your statement</td>\n",
       "      <td>Credit card company isn't resolving a dispute ...</td>\n",
       "      <td>On XX/XX/2019 all of my credit and debit cards...</td>\n",
       "      <td>Company has responded to the consumer and the ...</td>\n",
       "      <td>WELLS FARGO &amp; COMPANY</td>\n",
       "      <td>CA</td>\n",
       "      <td>900XX</td>\n",
       "      <td>NaN</td>\n",
       "      <td>Consent provided</td>\n",
       "      <td>Web</td>\n",
       "      <td>7/22/2019</td>\n",
       "      <td>Closed with explanation</td>\n",
       "      <td>NaN</td>\n",
       "      <td>Yes</td>\n",
       "    </tr>\n",
       "    <tr>\n",
       "      <th>2</th>\n",
       "      <td>2</td>\n",
       "      <td>3612478</td>\n",
       "      <td>4/18/2020</td>\n",
       "      <td>Credit reporting, credit repair services, or o...</td>\n",
       "      <td>Credit reporting</td>\n",
       "      <td>Incorrect information on your report</td>\n",
       "      <td>Information belongs to someone else</td>\n",
       "      <td>I was made aware of a negative account and inq...</td>\n",
       "      <td>NaN</td>\n",
       "      <td>EQUIFAX, INC.</td>\n",
       "      <td>CA</td>\n",
       "      <td>945XX</td>\n",
       "      <td>NaN</td>\n",
       "      <td>Consent provided</td>\n",
       "      <td>Web</td>\n",
       "      <td>4/18/2020</td>\n",
       "      <td>Closed with explanation</td>\n",
       "      <td>NaN</td>\n",
       "      <td>Yes</td>\n",
       "    </tr>\n",
       "    <tr>\n",
       "      <th>3</th>\n",
       "      <td>3</td>\n",
       "      <td>2069704</td>\n",
       "      <td>8/18/2016</td>\n",
       "      <td>Bank account or service</td>\n",
       "      <td>Checking account</td>\n",
       "      <td>Deposits and withdrawals</td>\n",
       "      <td>NaN</td>\n",
       "      <td>NaN</td>\n",
       "      <td>Company has responded to the consumer and the ...</td>\n",
       "      <td>BANK OF AMERICA, NATIONAL ASSOCIATION</td>\n",
       "      <td>TX</td>\n",
       "      <td>77014</td>\n",
       "      <td>NaN</td>\n",
       "      <td>NaN</td>\n",
       "      <td>Phone</td>\n",
       "      <td>8/19/2016</td>\n",
       "      <td>Closed with monetary relief</td>\n",
       "      <td>No</td>\n",
       "      <td>Yes</td>\n",
       "    </tr>\n",
       "    <tr>\n",
       "      <th>4</th>\n",
       "      <td>4</td>\n",
       "      <td>3354927</td>\n",
       "      <td>8/27/2019</td>\n",
       "      <td>Debt collection</td>\n",
       "      <td>Auto debt</td>\n",
       "      <td>Took or threatened to take negative or legal a...</td>\n",
       "      <td>Threatened or suggested your credit would be d...</td>\n",
       "      <td>NaN</td>\n",
       "      <td>NaN</td>\n",
       "      <td>Bridgecrest Acceptance Corporation</td>\n",
       "      <td>PA</td>\n",
       "      <td>19143</td>\n",
       "      <td>Servicemember</td>\n",
       "      <td>Consent not provided</td>\n",
       "      <td>Web</td>\n",
       "      <td>8/27/2019</td>\n",
       "      <td>Closed with explanation</td>\n",
       "      <td>NaN</td>\n",
       "      <td>Yes</td>\n",
       "    </tr>\n",
       "    <tr>\n",
       "      <th>...</th>\n",
       "      <td>...</td>\n",
       "      <td>...</td>\n",
       "      <td>...</td>\n",
       "      <td>...</td>\n",
       "      <td>...</td>\n",
       "      <td>...</td>\n",
       "      <td>...</td>\n",
       "      <td>...</td>\n",
       "      <td>...</td>\n",
       "      <td>...</td>\n",
       "      <td>...</td>\n",
       "      <td>...</td>\n",
       "      <td>...</td>\n",
       "      <td>...</td>\n",
       "      <td>...</td>\n",
       "      <td>...</td>\n",
       "      <td>...</td>\n",
       "      <td>...</td>\n",
       "      <td>...</td>\n",
       "    </tr>\n",
       "    <tr>\n",
       "      <th>1048570</th>\n",
       "      <td>1048570</td>\n",
       "      <td>3796247</td>\n",
       "      <td>8/13/2020</td>\n",
       "      <td>Mortgage</td>\n",
       "      <td>Conventional home mortgage</td>\n",
       "      <td>Trouble during payment process</td>\n",
       "      <td>NaN</td>\n",
       "      <td>NaN</td>\n",
       "      <td>Company believes complaint is the result of an...</td>\n",
       "      <td>UNITED SERVICES AUTOMOBILE ASSOCIATION</td>\n",
       "      <td>GA</td>\n",
       "      <td>30116</td>\n",
       "      <td>NaN</td>\n",
       "      <td>NaN</td>\n",
       "      <td>Referral</td>\n",
       "      <td>8/14/2020</td>\n",
       "      <td>Closed with explanation</td>\n",
       "      <td>NaN</td>\n",
       "      <td>Yes</td>\n",
       "    </tr>\n",
       "    <tr>\n",
       "      <th>1048571</th>\n",
       "      <td>1048571</td>\n",
       "      <td>3933702</td>\n",
       "      <td>11/3/2020</td>\n",
       "      <td>Credit reporting, credit repair services, or o...</td>\n",
       "      <td>Credit reporting</td>\n",
       "      <td>Incorrect information on your report</td>\n",
       "      <td>Information belongs to someone else</td>\n",
       "      <td>NaN</td>\n",
       "      <td>Company has responded to the consumer and the ...</td>\n",
       "      <td>TRANSUNION INTERMEDIATE HOLDINGS, INC.</td>\n",
       "      <td>NY</td>\n",
       "      <td>104XX</td>\n",
       "      <td>NaN</td>\n",
       "      <td>Other</td>\n",
       "      <td>Web</td>\n",
       "      <td>11/3/2020</td>\n",
       "      <td>Closed with explanation</td>\n",
       "      <td>NaN</td>\n",
       "      <td>Yes</td>\n",
       "    </tr>\n",
       "    <tr>\n",
       "      <th>1048572</th>\n",
       "      <td>1048572</td>\n",
       "      <td>3361930</td>\n",
       "      <td>8/30/2019</td>\n",
       "      <td>Mortgage</td>\n",
       "      <td>Conventional home mortgage</td>\n",
       "      <td>Applying for a mortgage or refinancing an exis...</td>\n",
       "      <td>NaN</td>\n",
       "      <td>NaN</td>\n",
       "      <td>Company has responded to the consumer and the ...</td>\n",
       "      <td>BANK OF AMERICA, NATIONAL ASSOCIATION</td>\n",
       "      <td>CA</td>\n",
       "      <td>95117</td>\n",
       "      <td>NaN</td>\n",
       "      <td>NaN</td>\n",
       "      <td>Referral</td>\n",
       "      <td>9/3/2019</td>\n",
       "      <td>Closed with explanation</td>\n",
       "      <td>NaN</td>\n",
       "      <td>Yes</td>\n",
       "    </tr>\n",
       "    <tr>\n",
       "      <th>1048573</th>\n",
       "      <td>1048573</td>\n",
       "      <td>4003293</td>\n",
       "      <td>12/10/2020</td>\n",
       "      <td>Credit reporting, credit repair services, or o...</td>\n",
       "      <td>Credit reporting</td>\n",
       "      <td>Incorrect information on your report</td>\n",
       "      <td>Information belongs to someone else</td>\n",
       "      <td>I spoke with XXXX at Experian on XX/XX/XXXX ab...</td>\n",
       "      <td>Company has responded to the consumer and the ...</td>\n",
       "      <td>Experian Information Solutions Inc.</td>\n",
       "      <td>AZ</td>\n",
       "      <td>853XX</td>\n",
       "      <td>NaN</td>\n",
       "      <td>Consent provided</td>\n",
       "      <td>Web</td>\n",
       "      <td>12/10/2020</td>\n",
       "      <td>Closed with explanation</td>\n",
       "      <td>NaN</td>\n",
       "      <td>Yes</td>\n",
       "    </tr>\n",
       "    <tr>\n",
       "      <th>1048574</th>\n",
       "      <td>1048574</td>\n",
       "      <td>3625596</td>\n",
       "      <td>4/27/2020</td>\n",
       "      <td>Credit reporting, credit repair services, or o...</td>\n",
       "      <td>Credit reporting</td>\n",
       "      <td>Incorrect information on your report</td>\n",
       "      <td>Information belongs to someone else</td>\n",
       "      <td>NaN</td>\n",
       "      <td>NaN</td>\n",
       "      <td>EQUIFAX, INC.</td>\n",
       "      <td>CA</td>\n",
       "      <td>91722</td>\n",
       "      <td>NaN</td>\n",
       "      <td>Consent not provided</td>\n",
       "      <td>Web</td>\n",
       "      <td>4/27/2020</td>\n",
       "      <td>Closed with explanation</td>\n",
       "      <td>NaN</td>\n",
       "      <td>Yes</td>\n",
       "    </tr>\n",
       "  </tbody>\n",
       "</table>\n",
       "<p>1048575 rows × 19 columns</p>\n",
       "</div>"
      ],
      "text/plain": [
       "         Unnamed: 0  Complaint_ID Date received  \\\n",
       "0                 0       2535701      6/8/2017   \n",
       "1                 1       3314889     7/22/2019   \n",
       "2                 2       3612478     4/18/2020   \n",
       "3                 3       2069704     8/18/2016   \n",
       "4                 4       3354927     8/27/2019   \n",
       "...             ...           ...           ...   \n",
       "1048570     1048570       3796247     8/13/2020   \n",
       "1048571     1048571       3933702     11/3/2020   \n",
       "1048572     1048572       3361930     8/30/2019   \n",
       "1048573     1048573       4003293    12/10/2020   \n",
       "1048574     1048574       3625596     4/27/2020   \n",
       "\n",
       "                                                   Product  \\\n",
       "0                                                 Mortgage   \n",
       "1                              Credit card or prepaid card   \n",
       "2        Credit reporting, credit repair services, or o...   \n",
       "3                                  Bank account or service   \n",
       "4                                          Debt collection   \n",
       "...                                                    ...   \n",
       "1048570                                           Mortgage   \n",
       "1048571  Credit reporting, credit repair services, or o...   \n",
       "1048572                                           Mortgage   \n",
       "1048573  Credit reporting, credit repair services, or o...   \n",
       "1048574  Credit reporting, credit repair services, or o...   \n",
       "\n",
       "                                        Sub-product  \\\n",
       "0                        Conventional home mortgage   \n",
       "1        General-purpose credit card or charge card   \n",
       "2                                  Credit reporting   \n",
       "3                                  Checking account   \n",
       "4                                         Auto debt   \n",
       "...                                             ...   \n",
       "1048570                  Conventional home mortgage   \n",
       "1048571                            Credit reporting   \n",
       "1048572                  Conventional home mortgage   \n",
       "1048573                            Credit reporting   \n",
       "1048574                            Credit reporting   \n",
       "\n",
       "                                                     Issue  \\\n",
       "0                               Struggling to pay mortgage   \n",
       "1          Problem with a purchase shown on your statement   \n",
       "2                     Incorrect information on your report   \n",
       "3                                 Deposits and withdrawals   \n",
       "4        Took or threatened to take negative or legal a...   \n",
       "...                                                    ...   \n",
       "1048570                     Trouble during payment process   \n",
       "1048571               Incorrect information on your report   \n",
       "1048572  Applying for a mortgage or refinancing an exis...   \n",
       "1048573               Incorrect information on your report   \n",
       "1048574               Incorrect information on your report   \n",
       "\n",
       "                                                 Sub-issue  \\\n",
       "0                                                      NaN   \n",
       "1        Credit card company isn't resolving a dispute ...   \n",
       "2                      Information belongs to someone else   \n",
       "3                                                      NaN   \n",
       "4        Threatened or suggested your credit would be d...   \n",
       "...                                                    ...   \n",
       "1048570                                                NaN   \n",
       "1048571                Information belongs to someone else   \n",
       "1048572                                                NaN   \n",
       "1048573                Information belongs to someone else   \n",
       "1048574                Information belongs to someone else   \n",
       "\n",
       "                              Consumer complaint narrative  \\\n",
       "0                                                      NaN   \n",
       "1        On XX/XX/2019 all of my credit and debit cards...   \n",
       "2        I was made aware of a negative account and inq...   \n",
       "3                                                      NaN   \n",
       "4                                                      NaN   \n",
       "...                                                    ...   \n",
       "1048570                                                NaN   \n",
       "1048571                                                NaN   \n",
       "1048572                                                NaN   \n",
       "1048573  I spoke with XXXX at Experian on XX/XX/XXXX ab...   \n",
       "1048574                                                NaN   \n",
       "\n",
       "                                   Company public response  \\\n",
       "0                                                      NaN   \n",
       "1        Company has responded to the consumer and the ...   \n",
       "2                                                      NaN   \n",
       "3        Company has responded to the consumer and the ...   \n",
       "4                                                      NaN   \n",
       "...                                                    ...   \n",
       "1048570  Company believes complaint is the result of an...   \n",
       "1048571  Company has responded to the consumer and the ...   \n",
       "1048572  Company has responded to the consumer and the ...   \n",
       "1048573  Company has responded to the consumer and the ...   \n",
       "1048574                                                NaN   \n",
       "\n",
       "                                        Company State ZIP code           Tags  \\\n",
       "0                      Caliber Home Loans, Inc.    FL    34744            NaN   \n",
       "1                         WELLS FARGO & COMPANY    CA    900XX            NaN   \n",
       "2                                 EQUIFAX, INC.    CA    945XX            NaN   \n",
       "3         BANK OF AMERICA, NATIONAL ASSOCIATION    TX    77014            NaN   \n",
       "4            Bridgecrest Acceptance Corporation    PA    19143  Servicemember   \n",
       "...                                         ...   ...      ...            ...   \n",
       "1048570  UNITED SERVICES AUTOMOBILE ASSOCIATION    GA    30116            NaN   \n",
       "1048571  TRANSUNION INTERMEDIATE HOLDINGS, INC.    NY    104XX            NaN   \n",
       "1048572   BANK OF AMERICA, NATIONAL ASSOCIATION    CA    95117            NaN   \n",
       "1048573     Experian Information Solutions Inc.    AZ    853XX            NaN   \n",
       "1048574                           EQUIFAX, INC.    CA    91722            NaN   \n",
       "\n",
       "        Consumer consent provided? Submitted via Date sent to company  \\\n",
       "0                              NaN           Fax            6/12/2017   \n",
       "1                 Consent provided           Web            7/22/2019   \n",
       "2                 Consent provided           Web            4/18/2020   \n",
       "3                              NaN         Phone            8/19/2016   \n",
       "4             Consent not provided           Web            8/27/2019   \n",
       "...                            ...           ...                  ...   \n",
       "1048570                        NaN      Referral            8/14/2020   \n",
       "1048571                      Other           Web            11/3/2020   \n",
       "1048572                        NaN      Referral             9/3/2019   \n",
       "1048573           Consent provided           Web           12/10/2020   \n",
       "1048574       Consent not provided           Web            4/27/2020   \n",
       "\n",
       "        Company response to consumer Consumer disputed? Timely response?  \n",
       "0            Closed with explanation                NaN              Yes  \n",
       "1            Closed with explanation                NaN              Yes  \n",
       "2            Closed with explanation                NaN              Yes  \n",
       "3        Closed with monetary relief                 No              Yes  \n",
       "4            Closed with explanation                NaN              Yes  \n",
       "...                              ...                ...              ...  \n",
       "1048570      Closed with explanation                NaN              Yes  \n",
       "1048571      Closed with explanation                NaN              Yes  \n",
       "1048572      Closed with explanation                NaN              Yes  \n",
       "1048573      Closed with explanation                NaN              Yes  \n",
       "1048574      Closed with explanation                NaN              Yes  \n",
       "\n",
       "[1048575 rows x 19 columns]"
      ]
     },
     "execution_count": 38,
     "metadata": {},
     "output_type": "execute_result"
    }
   ],
   "source": [
    "df=pd.read_csv(\"train.csv\")\n",
    "df"
   ]
  },
  {
   "cell_type": "code",
   "execution_count": 39,
   "metadata": {},
   "outputs": [
    {
     "name": "stdout",
     "output_type": "stream",
     "text": [
      "<class 'pandas.core.frame.DataFrame'>\n",
      "RangeIndex: 1048575 entries, 0 to 1048574\n",
      "Data columns (total 19 columns):\n",
      " #   Column                        Non-Null Count    Dtype \n",
      "---  ------                        --------------    ----- \n",
      " 0   Unnamed: 0                    1048575 non-null  int64 \n",
      " 1   Complaint_ID                  1048575 non-null  int64 \n",
      " 2   Date received                 1048575 non-null  object\n",
      " 3   Product                       1048575 non-null  object\n",
      " 4   Sub-product                   947674 non-null   object\n",
      " 5   Issue                         1048575 non-null  object\n",
      " 6   Sub-issue                     766056 non-null   object\n",
      " 7   Consumer complaint narrative  310809 non-null   object\n",
      " 8   Company public response       446648 non-null   object\n",
      " 9   Company                       1048575 non-null  object\n",
      " 10  State                         1027557 non-null  object\n",
      " 11  ZIP code                      954841 non-null   object\n",
      " 12  Tags                          129277 non-null   object\n",
      " 13  Consumer consent provided?    680949 non-null   object\n",
      " 14  Submitted via                 1048575 non-null  object\n",
      " 15  Date sent to company          1048575 non-null  object\n",
      " 16  Company response to consumer  1048574 non-null  object\n",
      " 17  Consumer disputed?            329143 non-null   object\n",
      " 18  Timely response?              1048575 non-null  object\n",
      "dtypes: int64(2), object(17)\n",
      "memory usage: 152.0+ MB\n"
     ]
    }
   ],
   "source": [
    "df.info()"
   ]
  },
  {
   "cell_type": "code",
   "execution_count": 40,
   "metadata": {},
   "outputs": [
    {
     "data": {
      "text/plain": [
       "Unnamed: 0                           0\n",
       "Complaint_ID                         0\n",
       "Date received                        0\n",
       "Product                              0\n",
       "Sub-product                     100901\n",
       "Issue                                0\n",
       "Sub-issue                       282519\n",
       "Consumer complaint narrative    737766\n",
       "Company public response         601927\n",
       "Company                              0\n",
       "State                            21018\n",
       "ZIP code                         93734\n",
       "Tags                            919298\n",
       "Consumer consent provided?      367626\n",
       "Submitted via                        0\n",
       "Date sent to company                 0\n",
       "Company response to consumer         1\n",
       "Consumer disputed?              719432\n",
       "Timely response?                     0\n",
       "dtype: int64"
      ]
     },
     "execution_count": 40,
     "metadata": {},
     "output_type": "execute_result"
    }
   ],
   "source": [
    "df.isna().sum()"
   ]
  },
  {
   "cell_type": "code",
   "execution_count": 41,
   "metadata": {},
   "outputs": [
    {
     "data": {
      "text/html": [
       "<div>\n",
       "<style scoped>\n",
       "    .dataframe tbody tr th:only-of-type {\n",
       "        vertical-align: middle;\n",
       "    }\n",
       "\n",
       "    .dataframe tbody tr th {\n",
       "        vertical-align: top;\n",
       "    }\n",
       "\n",
       "    .dataframe thead th {\n",
       "        text-align: right;\n",
       "    }\n",
       "</style>\n",
       "<table border=\"1\" class=\"dataframe\">\n",
       "  <thead>\n",
       "    <tr style=\"text-align: right;\">\n",
       "      <th></th>\n",
       "      <th>Complaint_ID</th>\n",
       "      <th>Date received</th>\n",
       "      <th>Product</th>\n",
       "      <th>Sub-product</th>\n",
       "      <th>Issue</th>\n",
       "      <th>Sub-issue</th>\n",
       "      <th>Consumer complaint narrative</th>\n",
       "      <th>Company public response</th>\n",
       "      <th>Company</th>\n",
       "      <th>State</th>\n",
       "      <th>ZIP code</th>\n",
       "      <th>Tags</th>\n",
       "      <th>Consumer consent provided?</th>\n",
       "      <th>Submitted via</th>\n",
       "      <th>Date sent to company</th>\n",
       "      <th>Company response to consumer</th>\n",
       "      <th>Consumer disputed?</th>\n",
       "      <th>Timely response?</th>\n",
       "    </tr>\n",
       "  </thead>\n",
       "  <tbody>\n",
       "    <tr>\n",
       "      <th>0</th>\n",
       "      <td>2535701</td>\n",
       "      <td>6/8/2017</td>\n",
       "      <td>Mortgage</td>\n",
       "      <td>Conventional home mortgage</td>\n",
       "      <td>Struggling to pay mortgage</td>\n",
       "      <td>NaN</td>\n",
       "      <td>NaN</td>\n",
       "      <td>NaN</td>\n",
       "      <td>Caliber Home Loans, Inc.</td>\n",
       "      <td>FL</td>\n",
       "      <td>34744</td>\n",
       "      <td>NaN</td>\n",
       "      <td>NaN</td>\n",
       "      <td>Fax</td>\n",
       "      <td>6/12/2017</td>\n",
       "      <td>Closed with explanation</td>\n",
       "      <td>NaN</td>\n",
       "      <td>Yes</td>\n",
       "    </tr>\n",
       "    <tr>\n",
       "      <th>1</th>\n",
       "      <td>3314889</td>\n",
       "      <td>7/22/2019</td>\n",
       "      <td>Credit card or prepaid card</td>\n",
       "      <td>General-purpose credit card or charge card</td>\n",
       "      <td>Problem with a purchase shown on your statement</td>\n",
       "      <td>Credit card company isn't resolving a dispute ...</td>\n",
       "      <td>On XX/XX/2019 all of my credit and debit cards...</td>\n",
       "      <td>Company has responded to the consumer and the ...</td>\n",
       "      <td>WELLS FARGO &amp; COMPANY</td>\n",
       "      <td>CA</td>\n",
       "      <td>900XX</td>\n",
       "      <td>NaN</td>\n",
       "      <td>Consent provided</td>\n",
       "      <td>Web</td>\n",
       "      <td>7/22/2019</td>\n",
       "      <td>Closed with explanation</td>\n",
       "      <td>NaN</td>\n",
       "      <td>Yes</td>\n",
       "    </tr>\n",
       "    <tr>\n",
       "      <th>2</th>\n",
       "      <td>3612478</td>\n",
       "      <td>4/18/2020</td>\n",
       "      <td>Credit reporting, credit repair services, or o...</td>\n",
       "      <td>Credit reporting</td>\n",
       "      <td>Incorrect information on your report</td>\n",
       "      <td>Information belongs to someone else</td>\n",
       "      <td>I was made aware of a negative account and inq...</td>\n",
       "      <td>NaN</td>\n",
       "      <td>EQUIFAX, INC.</td>\n",
       "      <td>CA</td>\n",
       "      <td>945XX</td>\n",
       "      <td>NaN</td>\n",
       "      <td>Consent provided</td>\n",
       "      <td>Web</td>\n",
       "      <td>4/18/2020</td>\n",
       "      <td>Closed with explanation</td>\n",
       "      <td>NaN</td>\n",
       "      <td>Yes</td>\n",
       "    </tr>\n",
       "    <tr>\n",
       "      <th>3</th>\n",
       "      <td>2069704</td>\n",
       "      <td>8/18/2016</td>\n",
       "      <td>Bank account or service</td>\n",
       "      <td>Checking account</td>\n",
       "      <td>Deposits and withdrawals</td>\n",
       "      <td>NaN</td>\n",
       "      <td>NaN</td>\n",
       "      <td>Company has responded to the consumer and the ...</td>\n",
       "      <td>BANK OF AMERICA, NATIONAL ASSOCIATION</td>\n",
       "      <td>TX</td>\n",
       "      <td>77014</td>\n",
       "      <td>NaN</td>\n",
       "      <td>NaN</td>\n",
       "      <td>Phone</td>\n",
       "      <td>8/19/2016</td>\n",
       "      <td>Closed with monetary relief</td>\n",
       "      <td>No</td>\n",
       "      <td>Yes</td>\n",
       "    </tr>\n",
       "    <tr>\n",
       "      <th>4</th>\n",
       "      <td>3354927</td>\n",
       "      <td>8/27/2019</td>\n",
       "      <td>Debt collection</td>\n",
       "      <td>Auto debt</td>\n",
       "      <td>Took or threatened to take negative or legal a...</td>\n",
       "      <td>Threatened or suggested your credit would be d...</td>\n",
       "      <td>NaN</td>\n",
       "      <td>NaN</td>\n",
       "      <td>Bridgecrest Acceptance Corporation</td>\n",
       "      <td>PA</td>\n",
       "      <td>19143</td>\n",
       "      <td>Servicemember</td>\n",
       "      <td>Consent not provided</td>\n",
       "      <td>Web</td>\n",
       "      <td>8/27/2019</td>\n",
       "      <td>Closed with explanation</td>\n",
       "      <td>NaN</td>\n",
       "      <td>Yes</td>\n",
       "    </tr>\n",
       "    <tr>\n",
       "      <th>...</th>\n",
       "      <td>...</td>\n",
       "      <td>...</td>\n",
       "      <td>...</td>\n",
       "      <td>...</td>\n",
       "      <td>...</td>\n",
       "      <td>...</td>\n",
       "      <td>...</td>\n",
       "      <td>...</td>\n",
       "      <td>...</td>\n",
       "      <td>...</td>\n",
       "      <td>...</td>\n",
       "      <td>...</td>\n",
       "      <td>...</td>\n",
       "      <td>...</td>\n",
       "      <td>...</td>\n",
       "      <td>...</td>\n",
       "      <td>...</td>\n",
       "      <td>...</td>\n",
       "    </tr>\n",
       "    <tr>\n",
       "      <th>1048570</th>\n",
       "      <td>3796247</td>\n",
       "      <td>8/13/2020</td>\n",
       "      <td>Mortgage</td>\n",
       "      <td>Conventional home mortgage</td>\n",
       "      <td>Trouble during payment process</td>\n",
       "      <td>NaN</td>\n",
       "      <td>NaN</td>\n",
       "      <td>Company believes complaint is the result of an...</td>\n",
       "      <td>UNITED SERVICES AUTOMOBILE ASSOCIATION</td>\n",
       "      <td>GA</td>\n",
       "      <td>30116</td>\n",
       "      <td>NaN</td>\n",
       "      <td>NaN</td>\n",
       "      <td>Referral</td>\n",
       "      <td>8/14/2020</td>\n",
       "      <td>Closed with explanation</td>\n",
       "      <td>NaN</td>\n",
       "      <td>Yes</td>\n",
       "    </tr>\n",
       "    <tr>\n",
       "      <th>1048571</th>\n",
       "      <td>3933702</td>\n",
       "      <td>11/3/2020</td>\n",
       "      <td>Credit reporting, credit repair services, or o...</td>\n",
       "      <td>Credit reporting</td>\n",
       "      <td>Incorrect information on your report</td>\n",
       "      <td>Information belongs to someone else</td>\n",
       "      <td>NaN</td>\n",
       "      <td>Company has responded to the consumer and the ...</td>\n",
       "      <td>TRANSUNION INTERMEDIATE HOLDINGS, INC.</td>\n",
       "      <td>NY</td>\n",
       "      <td>104XX</td>\n",
       "      <td>NaN</td>\n",
       "      <td>Other</td>\n",
       "      <td>Web</td>\n",
       "      <td>11/3/2020</td>\n",
       "      <td>Closed with explanation</td>\n",
       "      <td>NaN</td>\n",
       "      <td>Yes</td>\n",
       "    </tr>\n",
       "    <tr>\n",
       "      <th>1048572</th>\n",
       "      <td>3361930</td>\n",
       "      <td>8/30/2019</td>\n",
       "      <td>Mortgage</td>\n",
       "      <td>Conventional home mortgage</td>\n",
       "      <td>Applying for a mortgage or refinancing an exis...</td>\n",
       "      <td>NaN</td>\n",
       "      <td>NaN</td>\n",
       "      <td>Company has responded to the consumer and the ...</td>\n",
       "      <td>BANK OF AMERICA, NATIONAL ASSOCIATION</td>\n",
       "      <td>CA</td>\n",
       "      <td>95117</td>\n",
       "      <td>NaN</td>\n",
       "      <td>NaN</td>\n",
       "      <td>Referral</td>\n",
       "      <td>9/3/2019</td>\n",
       "      <td>Closed with explanation</td>\n",
       "      <td>NaN</td>\n",
       "      <td>Yes</td>\n",
       "    </tr>\n",
       "    <tr>\n",
       "      <th>1048573</th>\n",
       "      <td>4003293</td>\n",
       "      <td>12/10/2020</td>\n",
       "      <td>Credit reporting, credit repair services, or o...</td>\n",
       "      <td>Credit reporting</td>\n",
       "      <td>Incorrect information on your report</td>\n",
       "      <td>Information belongs to someone else</td>\n",
       "      <td>I spoke with XXXX at Experian on XX/XX/XXXX ab...</td>\n",
       "      <td>Company has responded to the consumer and the ...</td>\n",
       "      <td>Experian Information Solutions Inc.</td>\n",
       "      <td>AZ</td>\n",
       "      <td>853XX</td>\n",
       "      <td>NaN</td>\n",
       "      <td>Consent provided</td>\n",
       "      <td>Web</td>\n",
       "      <td>12/10/2020</td>\n",
       "      <td>Closed with explanation</td>\n",
       "      <td>NaN</td>\n",
       "      <td>Yes</td>\n",
       "    </tr>\n",
       "    <tr>\n",
       "      <th>1048574</th>\n",
       "      <td>3625596</td>\n",
       "      <td>4/27/2020</td>\n",
       "      <td>Credit reporting, credit repair services, or o...</td>\n",
       "      <td>Credit reporting</td>\n",
       "      <td>Incorrect information on your report</td>\n",
       "      <td>Information belongs to someone else</td>\n",
       "      <td>NaN</td>\n",
       "      <td>NaN</td>\n",
       "      <td>EQUIFAX, INC.</td>\n",
       "      <td>CA</td>\n",
       "      <td>91722</td>\n",
       "      <td>NaN</td>\n",
       "      <td>Consent not provided</td>\n",
       "      <td>Web</td>\n",
       "      <td>4/27/2020</td>\n",
       "      <td>Closed with explanation</td>\n",
       "      <td>NaN</td>\n",
       "      <td>Yes</td>\n",
       "    </tr>\n",
       "  </tbody>\n",
       "</table>\n",
       "<p>1048575 rows × 18 columns</p>\n",
       "</div>"
      ],
      "text/plain": [
       "         Complaint_ID Date received  \\\n",
       "0             2535701      6/8/2017   \n",
       "1             3314889     7/22/2019   \n",
       "2             3612478     4/18/2020   \n",
       "3             2069704     8/18/2016   \n",
       "4             3354927     8/27/2019   \n",
       "...               ...           ...   \n",
       "1048570       3796247     8/13/2020   \n",
       "1048571       3933702     11/3/2020   \n",
       "1048572       3361930     8/30/2019   \n",
       "1048573       4003293    12/10/2020   \n",
       "1048574       3625596     4/27/2020   \n",
       "\n",
       "                                                   Product  \\\n",
       "0                                                 Mortgage   \n",
       "1                              Credit card or prepaid card   \n",
       "2        Credit reporting, credit repair services, or o...   \n",
       "3                                  Bank account or service   \n",
       "4                                          Debt collection   \n",
       "...                                                    ...   \n",
       "1048570                                           Mortgage   \n",
       "1048571  Credit reporting, credit repair services, or o...   \n",
       "1048572                                           Mortgage   \n",
       "1048573  Credit reporting, credit repair services, or o...   \n",
       "1048574  Credit reporting, credit repair services, or o...   \n",
       "\n",
       "                                        Sub-product  \\\n",
       "0                        Conventional home mortgage   \n",
       "1        General-purpose credit card or charge card   \n",
       "2                                  Credit reporting   \n",
       "3                                  Checking account   \n",
       "4                                         Auto debt   \n",
       "...                                             ...   \n",
       "1048570                  Conventional home mortgage   \n",
       "1048571                            Credit reporting   \n",
       "1048572                  Conventional home mortgage   \n",
       "1048573                            Credit reporting   \n",
       "1048574                            Credit reporting   \n",
       "\n",
       "                                                     Issue  \\\n",
       "0                               Struggling to pay mortgage   \n",
       "1          Problem with a purchase shown on your statement   \n",
       "2                     Incorrect information on your report   \n",
       "3                                 Deposits and withdrawals   \n",
       "4        Took or threatened to take negative or legal a...   \n",
       "...                                                    ...   \n",
       "1048570                     Trouble during payment process   \n",
       "1048571               Incorrect information on your report   \n",
       "1048572  Applying for a mortgage or refinancing an exis...   \n",
       "1048573               Incorrect information on your report   \n",
       "1048574               Incorrect information on your report   \n",
       "\n",
       "                                                 Sub-issue  \\\n",
       "0                                                      NaN   \n",
       "1        Credit card company isn't resolving a dispute ...   \n",
       "2                      Information belongs to someone else   \n",
       "3                                                      NaN   \n",
       "4        Threatened or suggested your credit would be d...   \n",
       "...                                                    ...   \n",
       "1048570                                                NaN   \n",
       "1048571                Information belongs to someone else   \n",
       "1048572                                                NaN   \n",
       "1048573                Information belongs to someone else   \n",
       "1048574                Information belongs to someone else   \n",
       "\n",
       "                              Consumer complaint narrative  \\\n",
       "0                                                      NaN   \n",
       "1        On XX/XX/2019 all of my credit and debit cards...   \n",
       "2        I was made aware of a negative account and inq...   \n",
       "3                                                      NaN   \n",
       "4                                                      NaN   \n",
       "...                                                    ...   \n",
       "1048570                                                NaN   \n",
       "1048571                                                NaN   \n",
       "1048572                                                NaN   \n",
       "1048573  I spoke with XXXX at Experian on XX/XX/XXXX ab...   \n",
       "1048574                                                NaN   \n",
       "\n",
       "                                   Company public response  \\\n",
       "0                                                      NaN   \n",
       "1        Company has responded to the consumer and the ...   \n",
       "2                                                      NaN   \n",
       "3        Company has responded to the consumer and the ...   \n",
       "4                                                      NaN   \n",
       "...                                                    ...   \n",
       "1048570  Company believes complaint is the result of an...   \n",
       "1048571  Company has responded to the consumer and the ...   \n",
       "1048572  Company has responded to the consumer and the ...   \n",
       "1048573  Company has responded to the consumer and the ...   \n",
       "1048574                                                NaN   \n",
       "\n",
       "                                        Company State ZIP code           Tags  \\\n",
       "0                      Caliber Home Loans, Inc.    FL    34744            NaN   \n",
       "1                         WELLS FARGO & COMPANY    CA    900XX            NaN   \n",
       "2                                 EQUIFAX, INC.    CA    945XX            NaN   \n",
       "3         BANK OF AMERICA, NATIONAL ASSOCIATION    TX    77014            NaN   \n",
       "4            Bridgecrest Acceptance Corporation    PA    19143  Servicemember   \n",
       "...                                         ...   ...      ...            ...   \n",
       "1048570  UNITED SERVICES AUTOMOBILE ASSOCIATION    GA    30116            NaN   \n",
       "1048571  TRANSUNION INTERMEDIATE HOLDINGS, INC.    NY    104XX            NaN   \n",
       "1048572   BANK OF AMERICA, NATIONAL ASSOCIATION    CA    95117            NaN   \n",
       "1048573     Experian Information Solutions Inc.    AZ    853XX            NaN   \n",
       "1048574                           EQUIFAX, INC.    CA    91722            NaN   \n",
       "\n",
       "        Consumer consent provided? Submitted via Date sent to company  \\\n",
       "0                              NaN           Fax            6/12/2017   \n",
       "1                 Consent provided           Web            7/22/2019   \n",
       "2                 Consent provided           Web            4/18/2020   \n",
       "3                              NaN         Phone            8/19/2016   \n",
       "4             Consent not provided           Web            8/27/2019   \n",
       "...                            ...           ...                  ...   \n",
       "1048570                        NaN      Referral            8/14/2020   \n",
       "1048571                      Other           Web            11/3/2020   \n",
       "1048572                        NaN      Referral             9/3/2019   \n",
       "1048573           Consent provided           Web           12/10/2020   \n",
       "1048574       Consent not provided           Web            4/27/2020   \n",
       "\n",
       "        Company response to consumer Consumer disputed? Timely response?  \n",
       "0            Closed with explanation                NaN              Yes  \n",
       "1            Closed with explanation                NaN              Yes  \n",
       "2            Closed with explanation                NaN              Yes  \n",
       "3        Closed with monetary relief                 No              Yes  \n",
       "4            Closed with explanation                NaN              Yes  \n",
       "...                              ...                ...              ...  \n",
       "1048570      Closed with explanation                NaN              Yes  \n",
       "1048571      Closed with explanation                NaN              Yes  \n",
       "1048572      Closed with explanation                NaN              Yes  \n",
       "1048573      Closed with explanation                NaN              Yes  \n",
       "1048574      Closed with explanation                NaN              Yes  \n",
       "\n",
       "[1048575 rows x 18 columns]"
      ]
     },
     "execution_count": 41,
     "metadata": {},
     "output_type": "execute_result"
    }
   ],
   "source": [
    "df.drop([\"Unnamed: 0\"],axis=1,inplace=True)\n",
    "df"
   ]
  },
  {
   "cell_type": "code",
   "execution_count": 20,
   "metadata": {},
   "outputs": [
    {
     "data": {
      "text/plain": [
       "Closed with explanation            843893\n",
       "Closed with non-monetary relief    108215\n",
       "Closed with monetary relief         45740\n",
       "Closed without relief                9647\n",
       "In progress                          9400\n",
       "Closed                               6739\n",
       "Closed with relief                   2934\n",
       "Name: Company response to consumer, dtype: int64"
      ]
     },
     "execution_count": 20,
     "metadata": {},
     "output_type": "execute_result"
    }
   ],
   "source": [
    "df[\"Company response to consumer\"].where(df[\"Timely response?\"]==\"Yes\").value_counts()"
   ]
  },
  {
   "cell_type": "code",
   "execution_count": 18,
   "metadata": {},
   "outputs": [
    {
     "data": {
      "text/plain": [
       "Closed with explanation            18029\n",
       "Closed with non-monetary relief     1402\n",
       "Closed                              1196\n",
       "Closed with monetary relief          897\n",
       "Closed without relief                366\n",
       "Closed with relief                   116\n",
       "Name: Company response to consumer, dtype: int64"
      ]
     },
     "execution_count": 18,
     "metadata": {},
     "output_type": "execute_result"
    }
   ],
   "source": [
    "df[\"Company response to consumer\"].where(df[\"Timely response?\"]==\"No\").value_counts()"
   ]
  },
  {
   "cell_type": "code",
   "execution_count": 42,
   "metadata": {},
   "outputs": [],
   "source": [
    "df['Date recieved1'] =pd.to_datetime(df['Date received'])"
   ]
  },
  {
   "cell_type": "code",
   "execution_count": 43,
   "metadata": {
    "scrolled": true
   },
   "outputs": [
    {
     "name": "stdout",
     "output_type": "stream",
     "text": [
      "<class 'pandas.core.frame.DataFrame'>\n",
      "RangeIndex: 1048575 entries, 0 to 1048574\n",
      "Data columns (total 20 columns):\n",
      " #   Column                        Non-Null Count    Dtype         \n",
      "---  ------                        --------------    -----         \n",
      " 0   Complaint_ID                  1048575 non-null  int64         \n",
      " 1   Date received                 1048575 non-null  object        \n",
      " 2   Product                       1048575 non-null  object        \n",
      " 3   Sub-product                   947674 non-null   object        \n",
      " 4   Issue                         1048575 non-null  object        \n",
      " 5   Sub-issue                     766056 non-null   object        \n",
      " 6   Consumer complaint narrative  310809 non-null   object        \n",
      " 7   Company public response       446648 non-null   object        \n",
      " 8   Company                       1048575 non-null  object        \n",
      " 9   State                         1027557 non-null  object        \n",
      " 10  ZIP code                      954841 non-null   object        \n",
      " 11  Tags                          129277 non-null   object        \n",
      " 12  Consumer consent provided?    680949 non-null   object        \n",
      " 13  Submitted via                 1048575 non-null  object        \n",
      " 14  Date sent to company          1048575 non-null  object        \n",
      " 15  Company response to consumer  1048574 non-null  object        \n",
      " 16  Consumer disputed?            329143 non-null   object        \n",
      " 17  Timely response?              1048575 non-null  object        \n",
      " 18  Date recieved1                1048575 non-null  datetime64[ns]\n",
      " 19  Date sent to company1         1048575 non-null  datetime64[ns]\n",
      "dtypes: datetime64[ns](2), int64(1), object(17)\n",
      "memory usage: 160.0+ MB\n"
     ]
    }
   ],
   "source": [
    "df['Date sent to company1'] =pd.to_datetime(df['Date sent to company'])\n",
    "df.info()"
   ]
  },
  {
   "cell_type": "code",
   "execution_count": 23,
   "metadata": {},
   "outputs": [
    {
     "data": {
      "text/plain": [
       "Credit reporting, credit repair services, or other personal consumer reports    400981\n",
       "Debt collection                                                                 167263\n",
       "Mortgage                                                                        153440\n",
       "Credit reporting                                                                 60028\n",
       "Credit card or prepaid card                                                      59840\n",
       "Checking or savings account                                                      47571\n",
       "Credit card                                                                      38538\n",
       "Bank account or service                                                          38486\n",
       "Student loan                                                                     26920\n",
       "Money transfer, virtual currency, or money service                               14520\n",
       "Vehicle loan or lease                                                            13063\n",
       "Consumer Loan                                                                    12671\n",
       "Payday loan, title loan, or personal loan                                         8854\n",
       "Payday loan                                                                       2335\n",
       "Money transfers                                                                   2197\n",
       "Prepaid card                                                                      1409\n",
       "Other financial service                                                            454\n",
       "Virtual currency                                                                     5\n",
       "Name: Product, dtype: int64"
      ]
     },
     "execution_count": 23,
     "metadata": {},
     "output_type": "execute_result"
    }
   ],
   "source": [
    "df[\"Product\"].value_counts()"
   ]
  },
  {
   "cell_type": "code",
   "execution_count": 24,
   "metadata": {},
   "outputs": [
    {
     "data": {
      "text/plain": [
       "Web            823719\n",
       "Referral       108975\n",
       "Phone           61720\n",
       "Postal mail     41132\n",
       "Fax             12829\n",
       "Email             200\n",
       "Name: Submitted via, dtype: int64"
      ]
     },
     "execution_count": 24,
     "metadata": {},
     "output_type": "execute_result"
    }
   ],
   "source": [
    "df[\"Submitted via\"].value_counts()"
   ]
  },
  {
   "cell_type": "code",
   "execution_count": 30,
   "metadata": {},
   "outputs": [
    {
     "data": {
      "text/plain": [
       "Web            806707\n",
       "Referral       106758\n",
       "Phone           60057\n",
       "Postal mail     40318\n",
       "Fax             12531\n",
       "Email             198\n",
       "Name: Submitted via, dtype: int64"
      ]
     },
     "execution_count": 30,
     "metadata": {},
     "output_type": "execute_result"
    }
   ],
   "source": [
    "df[\"Submitted via\"].where(df[\"Timely response?\"]==\"Yes\").value_counts()"
   ]
  },
  {
   "cell_type": "code",
   "execution_count": 44,
   "metadata": {},
   "outputs": [
    {
     "data": {
      "text/plain": [
       "0    CA\n",
       "dtype: object"
      ]
     },
     "execution_count": 44,
     "metadata": {},
     "output_type": "execute_result"
    }
   ],
   "source": [
    "mode_value= df['State'].mode()\n",
    "mode_value"
   ]
  },
  {
   "cell_type": "code",
   "execution_count": 45,
   "metadata": {},
   "outputs": [],
   "source": [
    "df['State'].fillna(\"CA\", inplace=True)"
   ]
  },
  {
   "cell_type": "code",
   "execution_count": 50,
   "metadata": {},
   "outputs": [],
   "source": [
    "df['Sub-product'].fillna(\"None\", inplace=True)\n",
    "df['Sub-issue'].fillna(\"None\", inplace=True)\n",
    "df['Tags'].fillna(\"None\", inplace=True)\n",
    "df[\"Consumer consent provided?\"].fillna(\"None\", inplace=True)"
   ]
  },
  {
   "cell_type": "code",
   "execution_count": 63,
   "metadata": {},
   "outputs": [],
   "source": [
    "df['Company response to consumer'].fillna(\"None\", inplace=True)"
   ]
  },
  {
   "cell_type": "code",
   "execution_count": 64,
   "metadata": {},
   "outputs": [
    {
     "data": {
      "text/plain": [
       "Complaint_ID                         0\n",
       "Date received                        0\n",
       "Product                              0\n",
       "Sub-product                          0\n",
       "Issue                                0\n",
       "Sub-issue                            0\n",
       "Consumer complaint narrative    737766\n",
       "Company public response         601927\n",
       "Company                              0\n",
       "State                                0\n",
       "ZIP code                         93734\n",
       "Tags                                 0\n",
       "Consumer consent provided?           0\n",
       "Submitted via                        0\n",
       "Date sent to company                 0\n",
       "Company response to consumer         0\n",
       "Consumer disputed?              719432\n",
       "Timely response?                     0\n",
       "Date recieved1                       0\n",
       "Date sent to company1                0\n",
       "rYear                                0\n",
       "rMonth                               0\n",
       "rWeek_Days                           0\n",
       "sYear                                0\n",
       "sMonth                               0\n",
       "sWeek_Days                           0\n",
       "dtype: int64"
      ]
     },
     "execution_count": 64,
     "metadata": {},
     "output_type": "execute_result"
    }
   ],
   "source": [
    "df.isna().sum()"
   ]
  },
  {
   "cell_type": "code",
   "execution_count": 55,
   "metadata": {},
   "outputs": [],
   "source": [
    "#Extracting Year.\n",
    "df['rYear'] =df['Date recieved1'].dt.year\n",
    "\n",
    "#Extracti9ng Month.\n",
    "df['rMonth'] =df['Date recieved1'].dt.month_name()\n",
    "\n",
    "#Extracting Weekdays\n",
    "\n",
    "df['rWeek_Days'] = df['Date recieved1'].dt.day_name()"
   ]
  },
  {
   "cell_type": "code",
   "execution_count": 56,
   "metadata": {},
   "outputs": [],
   "source": [
    "#Extracting Year.\n",
    "df['sYear'] =df['Date sent to company1'].dt.year\n",
    "\n",
    "#Extracti9ng Month.\n",
    "df['sMonth'] =df['Date sent to company1'].dt.month_name()\n",
    "\n",
    "#Extracting Weekdays\n",
    "\n",
    "df['sWeek_Days'] = df['Date sent to company1'].dt.day_name()"
   ]
  },
  {
   "cell_type": "code",
   "execution_count": 59,
   "metadata": {},
   "outputs": [],
   "source": [
    "from sklearn.preprocessing import LabelEncoder\n",
    "labelencoder = LabelEncoder()"
   ]
  },
  {
   "cell_type": "code",
   "execution_count": 65,
   "metadata": {},
   "outputs": [],
   "source": [
    "df['Product1']= labelencoder.fit_transform(df['Product'])\n",
    "df['Sub-product1']= labelencoder.fit_transform(df['Sub-product'])\n",
    "df['Issue1']= labelencoder.fit_transform(df['Issue'])\n",
    "df['Sub-issue1']= labelencoder.fit_transform(df['Sub-issue'])\n",
    "df['Company1']= labelencoder.fit_transform(df['Company'])\n",
    "df['State1']= labelencoder.fit_transform(df['State'])\n",
    "df['Tags1']= labelencoder.fit_transform(df['Tags'])\n",
    "df['Company response to consumer1']= labelencoder.fit_transform(df['Company response to consumer'])\n",
    "df['Consumer consent provided?1']= labelencoder.fit_transform(df['Consumer consent provided?'])\n",
    "df['rYear1']= labelencoder.fit_transform(df['rYear'])\n",
    "df['rmonth1']= labelencoder.fit_transform(df['rMonth'])\n",
    "df['rweek_Days1']= labelencoder.fit_transform(df['rWeek_Days'])\n",
    "df['sYear1']= labelencoder.fit_transform(df['sYear'])\n",
    "df['sMonth1']= labelencoder.fit_transform(df['sMonth'])\n",
    "df['sWeek_Days1']= labelencoder.fit_transform(df['sWeek_Days'])"
   ]
  },
  {
   "cell_type": "code",
   "execution_count": 66,
   "metadata": {},
   "outputs": [
    {
     "name": "stdout",
     "output_type": "stream",
     "text": [
      "<class 'pandas.core.frame.DataFrame'>\n",
      "RangeIndex: 1048575 entries, 0 to 1048574\n",
      "Data columns (total 41 columns):\n",
      " #   Column                         Non-Null Count    Dtype         \n",
      "---  ------                         --------------    -----         \n",
      " 0   Complaint_ID                   1048575 non-null  int64         \n",
      " 1   Date received                  1048575 non-null  object        \n",
      " 2   Product                        1048575 non-null  object        \n",
      " 3   Sub-product                    1048575 non-null  object        \n",
      " 4   Issue                          1048575 non-null  object        \n",
      " 5   Sub-issue                      1048575 non-null  object        \n",
      " 6   Consumer complaint narrative   310809 non-null   object        \n",
      " 7   Company public response        446648 non-null   object        \n",
      " 8   Company                        1048575 non-null  object        \n",
      " 9   State                          1048575 non-null  object        \n",
      " 10  ZIP code                       954841 non-null   object        \n",
      " 11  Tags                           1048575 non-null  object        \n",
      " 12  Consumer consent provided?     1048575 non-null  object        \n",
      " 13  Submitted via                  1048575 non-null  object        \n",
      " 14  Date sent to company           1048575 non-null  object        \n",
      " 15  Company response to consumer   1048575 non-null  object        \n",
      " 16  Consumer disputed?             329143 non-null   object        \n",
      " 17  Timely response?               1048575 non-null  object        \n",
      " 18  Date recieved1                 1048575 non-null  datetime64[ns]\n",
      " 19  Date sent to company1          1048575 non-null  datetime64[ns]\n",
      " 20  rYear                          1048575 non-null  int64         \n",
      " 21  rMonth                         1048575 non-null  object        \n",
      " 22  rWeek_Days                     1048575 non-null  object        \n",
      " 23  sYear                          1048575 non-null  int64         \n",
      " 24  sMonth                         1048575 non-null  object        \n",
      " 25  sWeek_Days                     1048575 non-null  object        \n",
      " 26  Product1                       1048575 non-null  int32         \n",
      " 27  Sub-product1                   1048575 non-null  int32         \n",
      " 28  Issue1                         1048575 non-null  int32         \n",
      " 29  Sub-issue1                     1048575 non-null  int32         \n",
      " 30  Company1                       1048575 non-null  int32         \n",
      " 31  State1                         1048575 non-null  int32         \n",
      " 32  Tags1                          1048575 non-null  int32         \n",
      " 33  Company response to consumer1  1048575 non-null  int32         \n",
      " 34  Consumer consent provided?1    1048575 non-null  int32         \n",
      " 35  rYear1                         1048575 non-null  int64         \n",
      " 36  rmonth1                        1048575 non-null  int32         \n",
      " 37  rweek_Days1                    1048575 non-null  int32         \n",
      " 38  sYear1                         1048575 non-null  int64         \n",
      " 39  sMonth1                        1048575 non-null  int32         \n",
      " 40  sWeek_Days1                    1048575 non-null  int32         \n",
      "dtypes: datetime64[ns](2), int32(13), int64(5), object(21)\n",
      "memory usage: 276.0+ MB\n"
     ]
    }
   ],
   "source": [
    "df.info()"
   ]
  },
  {
   "cell_type": "code",
   "execution_count": 67,
   "metadata": {},
   "outputs": [],
   "source": [
    "df[\"Timely response1\"]=labelencoder.fit_transform(df['Timely response?'])"
   ]
  },
  {
   "cell_type": "code",
   "execution_count": 68,
   "metadata": {},
   "outputs": [],
   "source": [
    "x=df.iloc[:,26:41]\n",
    "y=df.iloc[:,41]"
   ]
  },
  {
   "cell_type": "code",
   "execution_count": 69,
   "metadata": {},
   "outputs": [],
   "source": [
    "from sklearn.model_selection import train_test_split\n",
    "x_train , x_test , y_train , y_test = train_test_split(x,y, test_size =0.25, random_state =10)"
   ]
  },
  {
   "cell_type": "code",
   "execution_count": 70,
   "metadata": {},
   "outputs": [
    {
     "data": {
      "text/plain": [
       "RandomForestClassifier(criterion='entropy', n_estimators=10, random_state=10)"
      ]
     },
     "execution_count": 70,
     "metadata": {},
     "output_type": "execute_result"
    }
   ],
   "source": [
    "from sklearn.ensemble import RandomForestClassifier\n",
    "classifier = RandomForestClassifier(n_estimators=10,criterion='entropy', random_state =10)\n",
    "classifier.fit(x_train,y_train)"
   ]
  },
  {
   "cell_type": "code",
   "execution_count": 71,
   "metadata": {},
   "outputs": [],
   "source": [
    "y_pred = classifier.predict(x_test)"
   ]
  },
  {
   "cell_type": "code",
   "execution_count": 72,
   "metadata": {},
   "outputs": [
    {
     "name": "stdout",
     "output_type": "stream",
     "text": [
      "Accuracy Score: 0.9800033569335938\n"
     ]
    }
   ],
   "source": [
    "from sklearn.metrics import accuracy_score\n",
    "print('Accuracy Score:',accuracy_score(y_test,y_pred))"
   ]
  },
  {
   "cell_type": "code",
   "execution_count": 73,
   "metadata": {},
   "outputs": [
    {
     "data": {
      "text/plain": [
       "Yes    1026569\n",
       "No       22006\n",
       "Name: Timely response?, dtype: int64"
      ]
     },
     "execution_count": 73,
     "metadata": {},
     "output_type": "execute_result"
    }
   ],
   "source": [
    "df[\"Timely response?\"].value_counts()"
   ]
  },
  {
   "cell_type": "code",
   "execution_count": 107,
   "metadata": {},
   "outputs": [
    {
     "data": {
      "text/plain": [
       "1    1026569\n",
       "0      22006\n",
       "Name: Timely response1, dtype: int64"
      ]
     },
     "execution_count": 107,
     "metadata": {},
     "output_type": "execute_result"
    }
   ],
   "source": [
    "df[\"Timely response1\"].value_counts()"
   ]
  },
  {
   "cell_type": "code",
   "execution_count": 97,
   "metadata": {},
   "outputs": [],
   "source": [
    "test=pd.read_csv(\"test.csv\")"
   ]
  },
  {
   "cell_type": "code",
   "execution_count": 98,
   "metadata": {},
   "outputs": [
    {
     "name": "stdout",
     "output_type": "stream",
     "text": [
      "<class 'pandas.core.frame.DataFrame'>\n",
      "RangeIndex: 459694 entries, 0 to 459693\n",
      "Data columns (total 18 columns):\n",
      " #   Column                        Non-Null Count   Dtype \n",
      "---  ------                        --------------   ----- \n",
      " 0   Unnamed: 0                    459694 non-null  int64 \n",
      " 1   Complaint_ID                  459694 non-null  int64 \n",
      " 2   Date received                 459694 non-null  object\n",
      " 3   Product                       459694 non-null  object\n",
      " 4   Sub-product                   415351 non-null  object\n",
      " 5   Issue                         459694 non-null  object\n",
      " 6   Sub-issue                     336075 non-null  object\n",
      " 7   Consumer complaint narrative  136193 non-null  object\n",
      " 8   Company public response       195993 non-null  object\n",
      " 9   Company                       459694 non-null  object\n",
      " 10  State                         450532 non-null  object\n",
      " 11  ZIP code                      418721 non-null  object\n",
      " 12  Tags                          56737 non-null   object\n",
      " 13  Consumer consent provided?    298447 non-null  object\n",
      " 14  Submitted via                 459694 non-null  object\n",
      " 15  Date sent to company          459694 non-null  object\n",
      " 16  Company response to consumer  459693 non-null  object\n",
      " 17  Consumer disputed?            144056 non-null  object\n",
      "dtypes: int64(2), object(16)\n",
      "memory usage: 63.1+ MB\n"
     ]
    }
   ],
   "source": [
    "test.info()"
   ]
  },
  {
   "cell_type": "code",
   "execution_count": 99,
   "metadata": {},
   "outputs": [],
   "source": [
    "test['Date recieved1'] =pd.to_datetime(test['Date received'])\n",
    "test['Date sent to company1'] =pd.to_datetime(test['Date sent to company'])\n",
    "#Extracting Year.\n",
    "test['rYear'] =test['Date recieved1'].dt.year\n",
    "\n",
    "#Extracti9ng Month.\n",
    "test['rMonth'] =test['Date recieved1'].dt.month_name()\n",
    "\n",
    "#Extracting Weekdays\n",
    "\n",
    "test['rWeek_Days'] = test['Date recieved1'].dt.day_name()\n",
    "#Extracting Year.\n",
    "test['sYear'] =test['Date sent to company1'].dt.year\n",
    "\n",
    "#Extracti9ng Month.\n",
    "test['sMonth'] =test['Date sent to company1'].dt.month_name()\n",
    "\n",
    "#Extracting Weekdays\n",
    "\n",
    "test['sWeek_Days'] = test['Date sent to company1'].dt.day_name()"
   ]
  },
  {
   "cell_type": "code",
   "execution_count": 100,
   "metadata": {},
   "outputs": [],
   "source": [
    "test['State'].fillna(\"CA\", inplace=True)\n",
    "test['Sub-product'].fillna(\"None\", inplace=True)\n",
    "test['Sub-issue'].fillna(\"None\", inplace=True)\n",
    "test['Tags'].fillna(\"None\", inplace=True)\n",
    "test[\"Consumer consent provided?\"].fillna(\"None\", inplace=True)\n",
    "test['Company response to consumer'].fillna(\"None\", inplace=True)"
   ]
  },
  {
   "cell_type": "code",
   "execution_count": 101,
   "metadata": {},
   "outputs": [
    {
     "data": {
      "text/plain": [
       "Unnamed: 0                           0\n",
       "Complaint_ID                         0\n",
       "Date received                        0\n",
       "Product                              0\n",
       "Sub-product                          0\n",
       "Issue                                0\n",
       "Sub-issue                            0\n",
       "Consumer complaint narrative    323501\n",
       "Company public response         263701\n",
       "Company                              0\n",
       "State                                0\n",
       "ZIP code                         40973\n",
       "Tags                                 0\n",
       "Consumer consent provided?           0\n",
       "Submitted via                        0\n",
       "Date sent to company                 0\n",
       "Company response to consumer         0\n",
       "Consumer disputed?              315638\n",
       "Date recieved1                       0\n",
       "Date sent to company1                0\n",
       "rYear                                0\n",
       "rMonth                               0\n",
       "rWeek_Days                           0\n",
       "sYear                                0\n",
       "sMonth                               0\n",
       "sWeek_Days                           0\n",
       "dtype: int64"
      ]
     },
     "execution_count": 101,
     "metadata": {},
     "output_type": "execute_result"
    }
   ],
   "source": [
    "test.isna().sum()"
   ]
  },
  {
   "cell_type": "code",
   "execution_count": 102,
   "metadata": {},
   "outputs": [],
   "source": [
    "test['Product1']= labelencoder.fit_transform(test['Product'])\n",
    "test['Sub-product1']= labelencoder.fit_transform(test['Sub-product'])\n",
    "test['Issue1']= labelencoder.fit_transform(test['Issue'])\n",
    "test['Sub-issue1']= labelencoder.fit_transform(test['Sub-issue'])\n",
    "test['Company1']= labelencoder.fit_transform(test['Company'])\n",
    "test['State1']= labelencoder.fit_transform(test['State'])\n",
    "test['Tags1']= labelencoder.fit_transform(test['Tags'])\n",
    "test['Company response to consumer1']= labelencoder.fit_transform(test['Company response to consumer'])\n",
    "test['Consumer consent provided?1']= labelencoder.fit_transform(test['Consumer consent provided?'])\n",
    "test['rYear1']= labelencoder.fit_transform(test['rYear'])\n",
    "test['rmonth1']= labelencoder.fit_transform(test['rMonth'])\n",
    "test['rweek_Days1']= labelencoder.fit_transform(test['rWeek_Days'])\n",
    "test['sYear1']= labelencoder.fit_transform(test['sYear'])\n",
    "test['sMonth1']= labelencoder.fit_transform(test['sMonth'])\n",
    "test['sWeek_Days1']= labelencoder.fit_transform(test['sWeek_Days'])"
   ]
  },
  {
   "cell_type": "code",
   "execution_count": 103,
   "metadata": {},
   "outputs": [
    {
     "name": "stdout",
     "output_type": "stream",
     "text": [
      "<class 'pandas.core.frame.DataFrame'>\n",
      "RangeIndex: 459694 entries, 0 to 459693\n",
      "Data columns (total 41 columns):\n",
      " #   Column                         Non-Null Count   Dtype         \n",
      "---  ------                         --------------   -----         \n",
      " 0   Unnamed: 0                     459694 non-null  int64         \n",
      " 1   Complaint_ID                   459694 non-null  int64         \n",
      " 2   Date received                  459694 non-null  object        \n",
      " 3   Product                        459694 non-null  object        \n",
      " 4   Sub-product                    459694 non-null  object        \n",
      " 5   Issue                          459694 non-null  object        \n",
      " 6   Sub-issue                      459694 non-null  object        \n",
      " 7   Consumer complaint narrative   136193 non-null  object        \n",
      " 8   Company public response        195993 non-null  object        \n",
      " 9   Company                        459694 non-null  object        \n",
      " 10  State                          459694 non-null  object        \n",
      " 11  ZIP code                       418721 non-null  object        \n",
      " 12  Tags                           459694 non-null  object        \n",
      " 13  Consumer consent provided?     459694 non-null  object        \n",
      " 14  Submitted via                  459694 non-null  object        \n",
      " 15  Date sent to company           459694 non-null  object        \n",
      " 16  Company response to consumer   459694 non-null  object        \n",
      " 17  Consumer disputed?             144056 non-null  object        \n",
      " 18  Date recieved1                 459694 non-null  datetime64[ns]\n",
      " 19  Date sent to company1          459694 non-null  datetime64[ns]\n",
      " 20  rYear                          459694 non-null  int64         \n",
      " 21  rMonth                         459694 non-null  object        \n",
      " 22  rWeek_Days                     459694 non-null  object        \n",
      " 23  sYear                          459694 non-null  int64         \n",
      " 24  sMonth                         459694 non-null  object        \n",
      " 25  sWeek_Days                     459694 non-null  object        \n",
      " 26  Product1                       459694 non-null  int32         \n",
      " 27  Sub-product1                   459694 non-null  int32         \n",
      " 28  Issue1                         459694 non-null  int32         \n",
      " 29  Sub-issue1                     459694 non-null  int32         \n",
      " 30  Company1                       459694 non-null  int32         \n",
      " 31  State1                         459694 non-null  int32         \n",
      " 32  Tags1                          459694 non-null  int32         \n",
      " 33  Company response to consumer1  459694 non-null  int32         \n",
      " 34  Consumer consent provided?1    459694 non-null  int32         \n",
      " 35  rYear1                         459694 non-null  int64         \n",
      " 36  rmonth1                        459694 non-null  int32         \n",
      " 37  rweek_Days1                    459694 non-null  int32         \n",
      " 38  sYear1                         459694 non-null  int64         \n",
      " 39  sMonth1                        459694 non-null  int32         \n",
      " 40  sWeek_Days1                    459694 non-null  int32         \n",
      "dtypes: datetime64[ns](2), int32(13), int64(6), object(20)\n",
      "memory usage: 121.0+ MB\n"
     ]
    }
   ],
   "source": [
    "test.info()"
   ]
  },
  {
   "cell_type": "code",
   "execution_count": 104,
   "metadata": {},
   "outputs": [],
   "source": [
    "x2=test.iloc[:,26:41]"
   ]
  },
  {
   "cell_type": "code",
   "execution_count": 105,
   "metadata": {},
   "outputs": [],
   "source": [
    "y_pred2=classifier.predict(x2)"
   ]
  },
  {
   "cell_type": "code",
   "execution_count": 110,
   "metadata": {},
   "outputs": [
    {
     "data": {
      "text/plain": [
       "array([1, 1, 1, ..., 1, 1, 1])"
      ]
     },
     "execution_count": 110,
     "metadata": {},
     "output_type": "execute_result"
    }
   ],
   "source": [
    "y_pred2"
   ]
  },
  {
   "cell_type": "code",
   "execution_count": 119,
   "metadata": {},
   "outputs": [],
   "source": [
    "def con(n):\n",
    "    if n==1:\n",
    "        return \"Yes\"\n",
    "    elif n==0:\n",
    "        return \"No\"\n",
    "  \n",
    "y_pred2n = map(con, y_pred2)"
   ]
  },
  {
   "cell_type": "code",
   "execution_count": 165,
   "metadata": {},
   "outputs": [],
   "source": [
    "y_pred2n=list(y_pred2n)\n",
    "y_pred2n=np.asarray(y_pred2n)"
   ]
  },
  {
   "cell_type": "code",
   "execution_count": 166,
   "metadata": {},
   "outputs": [
    {
     "data": {
      "text/plain": [
       "array(['Yes', 'Yes', 'Yes', ..., 'Yes', 'Yes', 'Yes'], dtype='<U3')"
      ]
     },
     "execution_count": 166,
     "metadata": {},
     "output_type": "execute_result"
    }
   ],
   "source": [
    "y_pred2n"
   ]
  },
  {
   "cell_type": "code",
   "execution_count": 128,
   "metadata": {},
   "outputs": [],
   "source": [
    "submit = pd.DataFrame(test[\"Complaint_ID\"])\n",
    "submit[\"Timely response?\"]=y_pred2n\n",
    "submit.rename(columns = {'Complaint_ID':'Complaint ID'}, inplace = True)"
   ]
  },
  {
   "cell_type": "code",
   "execution_count": 129,
   "metadata": {},
   "outputs": [
    {
     "data": {
      "text/html": [
       "<div>\n",
       "<style scoped>\n",
       "    .dataframe tbody tr th:only-of-type {\n",
       "        vertical-align: middle;\n",
       "    }\n",
       "\n",
       "    .dataframe tbody tr th {\n",
       "        vertical-align: top;\n",
       "    }\n",
       "\n",
       "    .dataframe thead th {\n",
       "        text-align: right;\n",
       "    }\n",
       "</style>\n",
       "<table border=\"1\" class=\"dataframe\">\n",
       "  <thead>\n",
       "    <tr style=\"text-align: right;\">\n",
       "      <th></th>\n",
       "      <th>Complaint ID</th>\n",
       "      <th>Timely response?</th>\n",
       "    </tr>\n",
       "  </thead>\n",
       "  <tbody>\n",
       "    <tr>\n",
       "      <th>0</th>\n",
       "      <td>3839774</td>\n",
       "      <td>Yes</td>\n",
       "    </tr>\n",
       "    <tr>\n",
       "      <th>1</th>\n",
       "      <td>2139831</td>\n",
       "      <td>Yes</td>\n",
       "    </tr>\n",
       "    <tr>\n",
       "      <th>2</th>\n",
       "      <td>4084614</td>\n",
       "      <td>Yes</td>\n",
       "    </tr>\n",
       "    <tr>\n",
       "      <th>3</th>\n",
       "      <td>3461505</td>\n",
       "      <td>Yes</td>\n",
       "    </tr>\n",
       "    <tr>\n",
       "      <th>4</th>\n",
       "      <td>2854433</td>\n",
       "      <td>Yes</td>\n",
       "    </tr>\n",
       "    <tr>\n",
       "      <th>...</th>\n",
       "      <td>...</td>\n",
       "      <td>...</td>\n",
       "    </tr>\n",
       "    <tr>\n",
       "      <th>459689</th>\n",
       "      <td>342950</td>\n",
       "      <td>Yes</td>\n",
       "    </tr>\n",
       "    <tr>\n",
       "      <th>459690</th>\n",
       "      <td>2599961</td>\n",
       "      <td>Yes</td>\n",
       "    </tr>\n",
       "    <tr>\n",
       "      <th>459691</th>\n",
       "      <td>3824572</td>\n",
       "      <td>Yes</td>\n",
       "    </tr>\n",
       "    <tr>\n",
       "      <th>459692</th>\n",
       "      <td>1418953</td>\n",
       "      <td>Yes</td>\n",
       "    </tr>\n",
       "    <tr>\n",
       "      <th>459693</th>\n",
       "      <td>3532501</td>\n",
       "      <td>Yes</td>\n",
       "    </tr>\n",
       "  </tbody>\n",
       "</table>\n",
       "<p>459694 rows × 2 columns</p>\n",
       "</div>"
      ],
      "text/plain": [
       "        Complaint ID Timely response?\n",
       "0            3839774              Yes\n",
       "1            2139831              Yes\n",
       "2            4084614              Yes\n",
       "3            3461505              Yes\n",
       "4            2854433              Yes\n",
       "...              ...              ...\n",
       "459689        342950              Yes\n",
       "459690       2599961              Yes\n",
       "459691       3824572              Yes\n",
       "459692       1418953              Yes\n",
       "459693       3532501              Yes\n",
       "\n",
       "[459694 rows x 2 columns]"
      ]
     },
     "execution_count": 129,
     "metadata": {},
     "output_type": "execute_result"
    }
   ],
   "source": [
    "submit"
   ]
  },
  {
   "cell_type": "code",
   "execution_count": 130,
   "metadata": {},
   "outputs": [],
   "source": [
    "submit.to_csv(\"submission1.csv\", index=False)"
   ]
  },
  {
   "cell_type": "markdown",
   "metadata": {},
   "source": [
    "# Decision Tree"
   ]
  },
  {
   "cell_type": "markdown",
   "metadata": {},
   "source": [
    "# ALL Attributes"
   ]
  },
  {
   "cell_type": "code",
   "execution_count": 132,
   "metadata": {},
   "outputs": [],
   "source": [
    "from sklearn.metrics import confusion_matrix\n",
    "from sklearn.tree import DecisionTreeClassifier\n",
    "from sklearn.metrics import accuracy_score\n",
    "from sklearn.metrics import classification_report"
   ]
  },
  {
   "cell_type": "code",
   "execution_count": 141,
   "metadata": {},
   "outputs": [],
   "source": [
    "def tarin_using_entropy(x_train, x_test, y_train):\n",
    "  \n",
    "    # Decision tree with entropy\n",
    "    clf_entropy = DecisionTreeClassifier(\n",
    "            criterion = \"entropy\", random_state = 100,\n",
    "            max_depth = 3, min_samples_leaf = 5)\n",
    "  \n",
    "    # Performing training\n",
    "    clf_entropy.fit(x_train, y_train)\n",
    "    return clf_entropy"
   ]
  },
  {
   "cell_type": "code",
   "execution_count": 142,
   "metadata": {},
   "outputs": [],
   "source": [
    "def prediction(x_test, clf_object):\n",
    "  \n",
    "    # Predicton on test with giniIndex\n",
    "    y_pred = clf_object.predict(x_test)\n",
    "    print(\"Predicted values:\")\n",
    "    print(y_pred)\n",
    "    return y_pred"
   ]
  },
  {
   "cell_type": "code",
   "execution_count": 145,
   "metadata": {},
   "outputs": [],
   "source": [
    "def cal_accuracy(y_test, y_pred):\n",
    "      \n",
    "    print(\"Confusion Matrix: \",\n",
    "        confusion_matrix(y_test, y_pred))\n",
    "      \n",
    "    print (\"Accuracy : \",\n",
    "    accuracy_score(y_test,y_pred)*100)\n",
    "      \n",
    "    print(\"Report : \",\n",
    "    classification_report(y_test, y_pred))"
   ]
  },
  {
   "cell_type": "code",
   "execution_count": 143,
   "metadata": {},
   "outputs": [],
   "source": [
    "clf_entropy = tarin_using_entropy(x_train, x_test, y_train)"
   ]
  },
  {
   "cell_type": "code",
   "execution_count": 146,
   "metadata": {},
   "outputs": [
    {
     "name": "stdout",
     "output_type": "stream",
     "text": [
      "Predicted values:\n",
      "[1 1 1 ... 1 1 1]\n",
      "Confusion Matrix:  [[     0   5450]\n",
      " [     0 256694]]\n",
      "Accuracy :  97.92098999023438\n",
      "Report :                precision    recall  f1-score   support\n",
      "\n",
      "           0       0.00      0.00      0.00      5450\n",
      "           1       0.98      1.00      0.99    256694\n",
      "\n",
      "    accuracy                           0.98    262144\n",
      "   macro avg       0.49      0.50      0.49    262144\n",
      "weighted avg       0.96      0.98      0.97    262144\n",
      "\n"
     ]
    },
    {
     "name": "stderr",
     "output_type": "stream",
     "text": [
      "C:\\Users\\Jyotsana\\anaconda3\\lib\\site-packages\\sklearn\\metrics\\_classification.py:1221: UndefinedMetricWarning: Precision and F-score are ill-defined and being set to 0.0 in labels with no predicted samples. Use `zero_division` parameter to control this behavior.\n",
      "  _warn_prf(average, modifier, msg_start, len(result))\n"
     ]
    }
   ],
   "source": [
    "y_pred_entropy = prediction(x_test, clf_entropy)\n",
    "cal_accuracy(y_test, y_pred_entropy)"
   ]
  },
  {
   "cell_type": "code",
   "execution_count": 148,
   "metadata": {},
   "outputs": [],
   "source": [
    "def train_using_gini(X_train, X_test, y_train):\n",
    "  \n",
    "    # Creating the classifier object\n",
    "    clf_gini = DecisionTreeClassifier(criterion = \"gini\",\n",
    "            random_state = 100,max_depth=3, min_samples_leaf=5)\n",
    "  \n",
    "    # Performing training\n",
    "    clf_gini.fit(X_train, y_train)\n",
    "    return clf_gini"
   ]
  },
  {
   "cell_type": "code",
   "execution_count": 149,
   "metadata": {},
   "outputs": [],
   "source": [
    "clf_gini = train_using_gini(x_train, x_test, y_train)"
   ]
  },
  {
   "cell_type": "code",
   "execution_count": 151,
   "metadata": {},
   "outputs": [
    {
     "name": "stdout",
     "output_type": "stream",
     "text": [
      "Predicted values:\n",
      "[1 1 1 ... 1 1 1]\n",
      "Confusion Matrix:  [[     3   5447]\n",
      " [     3 256691]]\n",
      "Accuracy :  97.92098999023438\n",
      "Report :                precision    recall  f1-score   support\n",
      "\n",
      "           0       0.50      0.00      0.00      5450\n",
      "           1       0.98      1.00      0.99    256694\n",
      "\n",
      "    accuracy                           0.98    262144\n",
      "   macro avg       0.74      0.50      0.50    262144\n",
      "weighted avg       0.97      0.98      0.97    262144\n",
      "\n"
     ]
    }
   ],
   "source": [
    "y_pred_gini = prediction(x_test, clf_gini)\n",
    "cal_accuracy(y_test, y_pred_gini)"
   ]
  },
  {
   "cell_type": "code",
   "execution_count": 159,
   "metadata": {},
   "outputs": [],
   "source": [
    "from sklearn.metrics import f1_score\n",
    "score = f1_score(y_test, y_pred_entropy)"
   ]
  },
  {
   "cell_type": "code",
   "execution_count": 160,
   "metadata": {},
   "outputs": [
    {
     "data": {
      "text/plain": [
       "0.9894957578280696"
      ]
     },
     "execution_count": 160,
     "metadata": {},
     "output_type": "execute_result"
    }
   ],
   "source": [
    "score"
   ]
  },
  {
   "cell_type": "code",
   "execution_count": 161,
   "metadata": {},
   "outputs": [
    {
     "name": "stdout",
     "output_type": "stream",
     "text": [
      "Predicted values:\n",
      "[1 1 1 ... 1 1 1]\n"
     ]
    },
    {
     "data": {
      "text/plain": [
       "array([1, 1, 1, ..., 1, 1, 1])"
      ]
     },
     "execution_count": 161,
     "metadata": {},
     "output_type": "execute_result"
    }
   ],
   "source": [
    "y_pred_entropy_test = prediction(x2, clf_entropy)\n",
    "y_pred_entropy_test"
   ]
  },
  {
   "cell_type": "code",
   "execution_count": 171,
   "metadata": {},
   "outputs": [],
   "source": [
    "y_pred_entropy_testn = map(con, y_pred_entropy_test)"
   ]
  },
  {
   "cell_type": "code",
   "execution_count": 172,
   "metadata": {},
   "outputs": [
    {
     "data": {
      "text/plain": [
       "array(['Yes', 'Yes', 'Yes', ..., 'Yes', 'Yes', 'Yes'], dtype='<U3')"
      ]
     },
     "execution_count": 172,
     "metadata": {},
     "output_type": "execute_result"
    }
   ],
   "source": [
    "y_pred_entropy_testn=list(y_pred_entropy_testn)\n",
    "y_pred_entropy_testn=np.asarray(y_pred_entropy_testn)\n",
    "y_pred_entropy_testn"
   ]
  },
  {
   "cell_type": "code",
   "execution_count": 173,
   "metadata": {},
   "outputs": [],
   "source": [
    "submit1 = pd.DataFrame(test[\"Complaint_ID\"])\n",
    "submit1[\"Timely response?\"]=y_pred_entropy_testn\n",
    "submit1.rename(columns = {'Complaint_ID':'Complaint ID'}, inplace = True)"
   ]
  },
  {
   "cell_type": "code",
   "execution_count": 174,
   "metadata": {},
   "outputs": [
    {
     "data": {
      "text/html": [
       "<div>\n",
       "<style scoped>\n",
       "    .dataframe tbody tr th:only-of-type {\n",
       "        vertical-align: middle;\n",
       "    }\n",
       "\n",
       "    .dataframe tbody tr th {\n",
       "        vertical-align: top;\n",
       "    }\n",
       "\n",
       "    .dataframe thead th {\n",
       "        text-align: right;\n",
       "    }\n",
       "</style>\n",
       "<table border=\"1\" class=\"dataframe\">\n",
       "  <thead>\n",
       "    <tr style=\"text-align: right;\">\n",
       "      <th></th>\n",
       "      <th>Complaint ID</th>\n",
       "      <th>Timely response?</th>\n",
       "    </tr>\n",
       "  </thead>\n",
       "  <tbody>\n",
       "    <tr>\n",
       "      <th>0</th>\n",
       "      <td>3839774</td>\n",
       "      <td>Yes</td>\n",
       "    </tr>\n",
       "    <tr>\n",
       "      <th>1</th>\n",
       "      <td>2139831</td>\n",
       "      <td>Yes</td>\n",
       "    </tr>\n",
       "    <tr>\n",
       "      <th>2</th>\n",
       "      <td>4084614</td>\n",
       "      <td>Yes</td>\n",
       "    </tr>\n",
       "    <tr>\n",
       "      <th>3</th>\n",
       "      <td>3461505</td>\n",
       "      <td>Yes</td>\n",
       "    </tr>\n",
       "    <tr>\n",
       "      <th>4</th>\n",
       "      <td>2854433</td>\n",
       "      <td>Yes</td>\n",
       "    </tr>\n",
       "    <tr>\n",
       "      <th>...</th>\n",
       "      <td>...</td>\n",
       "      <td>...</td>\n",
       "    </tr>\n",
       "    <tr>\n",
       "      <th>459689</th>\n",
       "      <td>342950</td>\n",
       "      <td>Yes</td>\n",
       "    </tr>\n",
       "    <tr>\n",
       "      <th>459690</th>\n",
       "      <td>2599961</td>\n",
       "      <td>Yes</td>\n",
       "    </tr>\n",
       "    <tr>\n",
       "      <th>459691</th>\n",
       "      <td>3824572</td>\n",
       "      <td>Yes</td>\n",
       "    </tr>\n",
       "    <tr>\n",
       "      <th>459692</th>\n",
       "      <td>1418953</td>\n",
       "      <td>Yes</td>\n",
       "    </tr>\n",
       "    <tr>\n",
       "      <th>459693</th>\n",
       "      <td>3532501</td>\n",
       "      <td>Yes</td>\n",
       "    </tr>\n",
       "  </tbody>\n",
       "</table>\n",
       "<p>459694 rows × 2 columns</p>\n",
       "</div>"
      ],
      "text/plain": [
       "        Complaint ID Timely response?\n",
       "0            3839774              Yes\n",
       "1            2139831              Yes\n",
       "2            4084614              Yes\n",
       "3            3461505              Yes\n",
       "4            2854433              Yes\n",
       "...              ...              ...\n",
       "459689        342950              Yes\n",
       "459690       2599961              Yes\n",
       "459691       3824572              Yes\n",
       "459692       1418953              Yes\n",
       "459693       3532501              Yes\n",
       "\n",
       "[459694 rows x 2 columns]"
      ]
     },
     "execution_count": 174,
     "metadata": {},
     "output_type": "execute_result"
    }
   ],
   "source": [
    "submit1"
   ]
  },
  {
   "cell_type": "code",
   "execution_count": 175,
   "metadata": {},
   "outputs": [],
   "source": [
    "submit1.to_csv(\"submission2.csv\", index=False)"
   ]
  },
  {
   "cell_type": "markdown",
   "metadata": {},
   "source": [
    "# Single attribute "
   ]
  },
  {
   "cell_type": "code",
   "execution_count": 157,
   "metadata": {},
   "outputs": [],
   "source": [
    "x_train1, x_test1 , y_train1 , y_test1 = train_test_split(df[\"Product1\"],df[\"Timely response1\"], test_size =0.25, random_state =10)"
   ]
  },
  {
   "cell_type": "code",
   "execution_count": 158,
   "metadata": {},
   "outputs": [
    {
     "ename": "ValueError",
     "evalue": "Expected 2D array, got 1D array instead:\narray=[10.  3.  7. ...  6.  6. 10.].\nReshape your data either using array.reshape(-1, 1) if your data has a single feature or array.reshape(1, -1) if it contains a single sample.",
     "output_type": "error",
     "traceback": [
      "\u001b[1;31m---------------------------------------------------------------------------\u001b[0m",
      "\u001b[1;31mValueError\u001b[0m                                Traceback (most recent call last)",
      "\u001b[1;32m<ipython-input-158-144e041fe02f>\u001b[0m in \u001b[0;36m<module>\u001b[1;34m\u001b[0m\n\u001b[1;32m----> 1\u001b[1;33m \u001b[0mclf_entropy1\u001b[0m \u001b[1;33m=\u001b[0m \u001b[0mtarin_using_entropy\u001b[0m\u001b[1;33m(\u001b[0m\u001b[0mx_train1\u001b[0m\u001b[1;33m,\u001b[0m \u001b[0mx_test1\u001b[0m\u001b[1;33m,\u001b[0m \u001b[0my_train1\u001b[0m\u001b[1;33m)\u001b[0m\u001b[1;33m\u001b[0m\u001b[1;33m\u001b[0m\u001b[0m\n\u001b[0m",
      "\u001b[1;32m<ipython-input-141-329212ba0aad>\u001b[0m in \u001b[0;36mtarin_using_entropy\u001b[1;34m(x_train, x_test, y_train)\u001b[0m\n\u001b[0;32m      7\u001b[0m \u001b[1;33m\u001b[0m\u001b[0m\n\u001b[0;32m      8\u001b[0m     \u001b[1;31m# Performing training\u001b[0m\u001b[1;33m\u001b[0m\u001b[1;33m\u001b[0m\u001b[1;33m\u001b[0m\u001b[0m\n\u001b[1;32m----> 9\u001b[1;33m     \u001b[0mclf_entropy\u001b[0m\u001b[1;33m.\u001b[0m\u001b[0mfit\u001b[0m\u001b[1;33m(\u001b[0m\u001b[0mx_train\u001b[0m\u001b[1;33m,\u001b[0m \u001b[0my_train\u001b[0m\u001b[1;33m)\u001b[0m\u001b[1;33m\u001b[0m\u001b[1;33m\u001b[0m\u001b[0m\n\u001b[0m\u001b[0;32m     10\u001b[0m     \u001b[1;32mreturn\u001b[0m \u001b[0mclf_entropy\u001b[0m\u001b[1;33m\u001b[0m\u001b[1;33m\u001b[0m\u001b[0m\n",
      "\u001b[1;32m~\\anaconda3\\lib\\site-packages\\sklearn\\tree\\_classes.py\u001b[0m in \u001b[0;36mfit\u001b[1;34m(self, X, y, sample_weight, check_input, X_idx_sorted)\u001b[0m\n\u001b[0;32m    888\u001b[0m         \"\"\"\n\u001b[0;32m    889\u001b[0m \u001b[1;33m\u001b[0m\u001b[0m\n\u001b[1;32m--> 890\u001b[1;33m         super().fit(\n\u001b[0m\u001b[0;32m    891\u001b[0m             \u001b[0mX\u001b[0m\u001b[1;33m,\u001b[0m \u001b[0my\u001b[0m\u001b[1;33m,\u001b[0m\u001b[1;33m\u001b[0m\u001b[1;33m\u001b[0m\u001b[0m\n\u001b[0;32m    892\u001b[0m             \u001b[0msample_weight\u001b[0m\u001b[1;33m=\u001b[0m\u001b[0msample_weight\u001b[0m\u001b[1;33m,\u001b[0m\u001b[1;33m\u001b[0m\u001b[1;33m\u001b[0m\u001b[0m\n",
      "\u001b[1;32m~\\anaconda3\\lib\\site-packages\\sklearn\\tree\\_classes.py\u001b[0m in \u001b[0;36mfit\u001b[1;34m(self, X, y, sample_weight, check_input, X_idx_sorted)\u001b[0m\n\u001b[0;32m    154\u001b[0m             \u001b[0mcheck_X_params\u001b[0m \u001b[1;33m=\u001b[0m \u001b[0mdict\u001b[0m\u001b[1;33m(\u001b[0m\u001b[0mdtype\u001b[0m\u001b[1;33m=\u001b[0m\u001b[0mDTYPE\u001b[0m\u001b[1;33m,\u001b[0m \u001b[0maccept_sparse\u001b[0m\u001b[1;33m=\u001b[0m\u001b[1;34m\"csc\"\u001b[0m\u001b[1;33m)\u001b[0m\u001b[1;33m\u001b[0m\u001b[1;33m\u001b[0m\u001b[0m\n\u001b[0;32m    155\u001b[0m             \u001b[0mcheck_y_params\u001b[0m \u001b[1;33m=\u001b[0m \u001b[0mdict\u001b[0m\u001b[1;33m(\u001b[0m\u001b[0mensure_2d\u001b[0m\u001b[1;33m=\u001b[0m\u001b[1;32mFalse\u001b[0m\u001b[1;33m,\u001b[0m \u001b[0mdtype\u001b[0m\u001b[1;33m=\u001b[0m\u001b[1;32mNone\u001b[0m\u001b[1;33m)\u001b[0m\u001b[1;33m\u001b[0m\u001b[1;33m\u001b[0m\u001b[0m\n\u001b[1;32m--> 156\u001b[1;33m             X, y = self._validate_data(X, y,\n\u001b[0m\u001b[0;32m    157\u001b[0m                                        validate_separately=(check_X_params,\n\u001b[0;32m    158\u001b[0m                                                             check_y_params))\n",
      "\u001b[1;32m~\\anaconda3\\lib\\site-packages\\sklearn\\base.py\u001b[0m in \u001b[0;36m_validate_data\u001b[1;34m(self, X, y, reset, validate_separately, **check_params)\u001b[0m\n\u001b[0;32m    427\u001b[0m                 \u001b[1;31m# :(\u001b[0m\u001b[1;33m\u001b[0m\u001b[1;33m\u001b[0m\u001b[1;33m\u001b[0m\u001b[0m\n\u001b[0;32m    428\u001b[0m                 \u001b[0mcheck_X_params\u001b[0m\u001b[1;33m,\u001b[0m \u001b[0mcheck_y_params\u001b[0m \u001b[1;33m=\u001b[0m \u001b[0mvalidate_separately\u001b[0m\u001b[1;33m\u001b[0m\u001b[1;33m\u001b[0m\u001b[0m\n\u001b[1;32m--> 429\u001b[1;33m                 \u001b[0mX\u001b[0m \u001b[1;33m=\u001b[0m \u001b[0mcheck_array\u001b[0m\u001b[1;33m(\u001b[0m\u001b[0mX\u001b[0m\u001b[1;33m,\u001b[0m \u001b[1;33m**\u001b[0m\u001b[0mcheck_X_params\u001b[0m\u001b[1;33m)\u001b[0m\u001b[1;33m\u001b[0m\u001b[1;33m\u001b[0m\u001b[0m\n\u001b[0m\u001b[0;32m    430\u001b[0m                 \u001b[0my\u001b[0m \u001b[1;33m=\u001b[0m \u001b[0mcheck_array\u001b[0m\u001b[1;33m(\u001b[0m\u001b[0my\u001b[0m\u001b[1;33m,\u001b[0m \u001b[1;33m**\u001b[0m\u001b[0mcheck_y_params\u001b[0m\u001b[1;33m)\u001b[0m\u001b[1;33m\u001b[0m\u001b[1;33m\u001b[0m\u001b[0m\n\u001b[0;32m    431\u001b[0m             \u001b[1;32melse\u001b[0m\u001b[1;33m:\u001b[0m\u001b[1;33m\u001b[0m\u001b[1;33m\u001b[0m\u001b[0m\n",
      "\u001b[1;32m~\\anaconda3\\lib\\site-packages\\sklearn\\utils\\validation.py\u001b[0m in \u001b[0;36minner_f\u001b[1;34m(*args, **kwargs)\u001b[0m\n\u001b[0;32m     70\u001b[0m                           FutureWarning)\n\u001b[0;32m     71\u001b[0m         \u001b[0mkwargs\u001b[0m\u001b[1;33m.\u001b[0m\u001b[0mupdate\u001b[0m\u001b[1;33m(\u001b[0m\u001b[1;33m{\u001b[0m\u001b[0mk\u001b[0m\u001b[1;33m:\u001b[0m \u001b[0marg\u001b[0m \u001b[1;32mfor\u001b[0m \u001b[0mk\u001b[0m\u001b[1;33m,\u001b[0m \u001b[0marg\u001b[0m \u001b[1;32min\u001b[0m \u001b[0mzip\u001b[0m\u001b[1;33m(\u001b[0m\u001b[0msig\u001b[0m\u001b[1;33m.\u001b[0m\u001b[0mparameters\u001b[0m\u001b[1;33m,\u001b[0m \u001b[0margs\u001b[0m\u001b[1;33m)\u001b[0m\u001b[1;33m}\u001b[0m\u001b[1;33m)\u001b[0m\u001b[1;33m\u001b[0m\u001b[1;33m\u001b[0m\u001b[0m\n\u001b[1;32m---> 72\u001b[1;33m         \u001b[1;32mreturn\u001b[0m \u001b[0mf\u001b[0m\u001b[1;33m(\u001b[0m\u001b[1;33m**\u001b[0m\u001b[0mkwargs\u001b[0m\u001b[1;33m)\u001b[0m\u001b[1;33m\u001b[0m\u001b[1;33m\u001b[0m\u001b[0m\n\u001b[0m\u001b[0;32m     73\u001b[0m     \u001b[1;32mreturn\u001b[0m \u001b[0minner_f\u001b[0m\u001b[1;33m\u001b[0m\u001b[1;33m\u001b[0m\u001b[0m\n\u001b[0;32m     74\u001b[0m \u001b[1;33m\u001b[0m\u001b[0m\n",
      "\u001b[1;32m~\\anaconda3\\lib\\site-packages\\sklearn\\utils\\validation.py\u001b[0m in \u001b[0;36mcheck_array\u001b[1;34m(array, accept_sparse, accept_large_sparse, dtype, order, copy, force_all_finite, ensure_2d, allow_nd, ensure_min_samples, ensure_min_features, estimator)\u001b[0m\n\u001b[0;32m    617\u001b[0m             \u001b[1;31m# If input is 1D raise error\u001b[0m\u001b[1;33m\u001b[0m\u001b[1;33m\u001b[0m\u001b[1;33m\u001b[0m\u001b[0m\n\u001b[0;32m    618\u001b[0m             \u001b[1;32mif\u001b[0m \u001b[0marray\u001b[0m\u001b[1;33m.\u001b[0m\u001b[0mndim\u001b[0m \u001b[1;33m==\u001b[0m \u001b[1;36m1\u001b[0m\u001b[1;33m:\u001b[0m\u001b[1;33m\u001b[0m\u001b[1;33m\u001b[0m\u001b[0m\n\u001b[1;32m--> 619\u001b[1;33m                 raise ValueError(\n\u001b[0m\u001b[0;32m    620\u001b[0m                     \u001b[1;34m\"Expected 2D array, got 1D array instead:\\narray={}.\\n\"\u001b[0m\u001b[1;33m\u001b[0m\u001b[1;33m\u001b[0m\u001b[0m\n\u001b[0;32m    621\u001b[0m                     \u001b[1;34m\"Reshape your data either using array.reshape(-1, 1) if \"\u001b[0m\u001b[1;33m\u001b[0m\u001b[1;33m\u001b[0m\u001b[0m\n",
      "\u001b[1;31mValueError\u001b[0m: Expected 2D array, got 1D array instead:\narray=[10.  3.  7. ...  6.  6. 10.].\nReshape your data either using array.reshape(-1, 1) if your data has a single feature or array.reshape(1, -1) if it contains a single sample."
     ]
    }
   ],
   "source": [
    "clf_entropy1 = tarin_using_entropy(x_train1, x_test1, y_train1)"
   ]
  },
  {
   "cell_type": "code",
   "execution_count": 154,
   "metadata": {},
   "outputs": [
    {
     "name": "stdout",
     "output_type": "stream",
     "text": [
      "Predicted values:\n",
      "[1 1 1 ... 1 1 1]\n",
      "Confusion Matrix:  [[     0   5450]\n",
      " [     0 256694]]\n",
      "Accuracy :  97.92098999023438\n",
      "Report :                precision    recall  f1-score   support\n",
      "\n",
      "           0       0.00      0.00      0.00      5450\n",
      "           1       0.98      1.00      0.99    256694\n",
      "\n",
      "    accuracy                           0.98    262144\n",
      "   macro avg       0.49      0.50      0.49    262144\n",
      "weighted avg       0.96      0.98      0.97    262144\n",
      "\n"
     ]
    },
    {
     "name": "stderr",
     "output_type": "stream",
     "text": [
      "C:\\Users\\Jyotsana\\anaconda3\\lib\\site-packages\\sklearn\\metrics\\_classification.py:1221: UndefinedMetricWarning: Precision and F-score are ill-defined and being set to 0.0 in labels with no predicted samples. Use `zero_division` parameter to control this behavior.\n",
      "  _warn_prf(average, modifier, msg_start, len(result))\n"
     ]
    }
   ],
   "source": [
    "y_pred_entropy1 = prediction(x_test1, clf_entrop1y)\n",
    "cal_accuracy(y_test1, y_pred_entropy1)"
   ]
  },
  {
   "cell_type": "markdown",
   "metadata": {},
   "source": [
    "# Naive Bayes "
   ]
  },
  {
   "cell_type": "code",
   "execution_count": 176,
   "metadata": {},
   "outputs": [
    {
     "data": {
      "text/plain": [
       "GaussianNB()"
      ]
     },
     "execution_count": 176,
     "metadata": {},
     "output_type": "execute_result"
    }
   ],
   "source": [
    "from sklearn.naive_bayes import GaussianNB\n",
    "gnb = GaussianNB()\n",
    "gnb.fit(x_train, y_train)"
   ]
  },
  {
   "cell_type": "code",
   "execution_count": 179,
   "metadata": {},
   "outputs": [],
   "source": [
    "y_prednb = gnb.predict(x_test)"
   ]
  },
  {
   "cell_type": "code",
   "execution_count": 180,
   "metadata": {},
   "outputs": [],
   "source": [
    "scorenb = f1_score(y_test, y_prednb)"
   ]
  },
  {
   "cell_type": "code",
   "execution_count": 181,
   "metadata": {},
   "outputs": [
    {
     "data": {
      "text/plain": [
       "0.9890901939006895"
      ]
     },
     "execution_count": 181,
     "metadata": {},
     "output_type": "execute_result"
    }
   ],
   "source": [
    "scorenb"
   ]
  },
  {
   "cell_type": "code",
   "execution_count": 182,
   "metadata": {},
   "outputs": [
    {
     "name": "stdout",
     "output_type": "stream",
     "text": [
      "Accuracy Score: 0.9784164428710938\n"
     ]
    }
   ],
   "source": [
    "print('Accuracy Score:',accuracy_score(y_test,y_prednb))"
   ]
  },
  {
   "cell_type": "code",
   "execution_count": 183,
   "metadata": {},
   "outputs": [],
   "source": [
    "y_prednb_test = gnb.predict(x2)"
   ]
  },
  {
   "cell_type": "code",
   "execution_count": 184,
   "metadata": {},
   "outputs": [],
   "source": [
    "y_prednb_testn = map(con, y_prednb_test)"
   ]
  },
  {
   "cell_type": "code",
   "execution_count": 185,
   "metadata": {},
   "outputs": [
    {
     "data": {
      "text/plain": [
       "array(['Yes', 'Yes', 'Yes', ..., 'Yes', 'Yes', 'Yes'], dtype='<U3')"
      ]
     },
     "execution_count": 185,
     "metadata": {},
     "output_type": "execute_result"
    }
   ],
   "source": [
    "y_prednb_testn=list(y_prednb_testn)\n",
    "y_prednb_testn=np.asarray(y_prednb_testn)\n",
    "y_prednb_testn"
   ]
  },
  {
   "cell_type": "code",
   "execution_count": 186,
   "metadata": {},
   "outputs": [],
   "source": [
    "submit2 = pd.DataFrame(test[\"Complaint_ID\"])\n",
    "submit2[\"Timely response?\"]=y_prednb_testn\n",
    "submit2.rename(columns = {'Complaint_ID':'Complaint ID'}, inplace = True)"
   ]
  },
  {
   "cell_type": "code",
   "execution_count": 187,
   "metadata": {},
   "outputs": [
    {
     "data": {
      "text/html": [
       "<div>\n",
       "<style scoped>\n",
       "    .dataframe tbody tr th:only-of-type {\n",
       "        vertical-align: middle;\n",
       "    }\n",
       "\n",
       "    .dataframe tbody tr th {\n",
       "        vertical-align: top;\n",
       "    }\n",
       "\n",
       "    .dataframe thead th {\n",
       "        text-align: right;\n",
       "    }\n",
       "</style>\n",
       "<table border=\"1\" class=\"dataframe\">\n",
       "  <thead>\n",
       "    <tr style=\"text-align: right;\">\n",
       "      <th></th>\n",
       "      <th>Complaint ID</th>\n",
       "      <th>Timely response?</th>\n",
       "    </tr>\n",
       "  </thead>\n",
       "  <tbody>\n",
       "    <tr>\n",
       "      <th>0</th>\n",
       "      <td>3839774</td>\n",
       "      <td>Yes</td>\n",
       "    </tr>\n",
       "    <tr>\n",
       "      <th>1</th>\n",
       "      <td>2139831</td>\n",
       "      <td>Yes</td>\n",
       "    </tr>\n",
       "    <tr>\n",
       "      <th>2</th>\n",
       "      <td>4084614</td>\n",
       "      <td>Yes</td>\n",
       "    </tr>\n",
       "    <tr>\n",
       "      <th>3</th>\n",
       "      <td>3461505</td>\n",
       "      <td>Yes</td>\n",
       "    </tr>\n",
       "    <tr>\n",
       "      <th>4</th>\n",
       "      <td>2854433</td>\n",
       "      <td>Yes</td>\n",
       "    </tr>\n",
       "    <tr>\n",
       "      <th>...</th>\n",
       "      <td>...</td>\n",
       "      <td>...</td>\n",
       "    </tr>\n",
       "    <tr>\n",
       "      <th>459689</th>\n",
       "      <td>342950</td>\n",
       "      <td>Yes</td>\n",
       "    </tr>\n",
       "    <tr>\n",
       "      <th>459690</th>\n",
       "      <td>2599961</td>\n",
       "      <td>Yes</td>\n",
       "    </tr>\n",
       "    <tr>\n",
       "      <th>459691</th>\n",
       "      <td>3824572</td>\n",
       "      <td>Yes</td>\n",
       "    </tr>\n",
       "    <tr>\n",
       "      <th>459692</th>\n",
       "      <td>1418953</td>\n",
       "      <td>Yes</td>\n",
       "    </tr>\n",
       "    <tr>\n",
       "      <th>459693</th>\n",
       "      <td>3532501</td>\n",
       "      <td>Yes</td>\n",
       "    </tr>\n",
       "  </tbody>\n",
       "</table>\n",
       "<p>459694 rows × 2 columns</p>\n",
       "</div>"
      ],
      "text/plain": [
       "        Complaint ID Timely response?\n",
       "0            3839774              Yes\n",
       "1            2139831              Yes\n",
       "2            4084614              Yes\n",
       "3            3461505              Yes\n",
       "4            2854433              Yes\n",
       "...              ...              ...\n",
       "459689        342950              Yes\n",
       "459690       2599961              Yes\n",
       "459691       3824572              Yes\n",
       "459692       1418953              Yes\n",
       "459693       3532501              Yes\n",
       "\n",
       "[459694 rows x 2 columns]"
      ]
     },
     "execution_count": 187,
     "metadata": {},
     "output_type": "execute_result"
    }
   ],
   "source": [
    "submit2"
   ]
  },
  {
   "cell_type": "code",
   "execution_count": 188,
   "metadata": {},
   "outputs": [],
   "source": [
    "submit1.to_csv(\"submission3.csv\", index=False)"
   ]
  },
  {
   "cell_type": "markdown",
   "metadata": {},
   "source": [
    "# lgb classifier"
   ]
  },
  {
   "cell_type": "code",
   "execution_count": 189,
   "metadata": {},
   "outputs": [
    {
     "name": "stdout",
     "output_type": "stream",
     "text": [
      "Collecting lightgbm\n",
      "  Downloading lightgbm-3.2.0-py3-none-win_amd64.whl (1.0 MB)\n",
      "Requirement already satisfied: wheel in c:\\users\\jyotsana\\anaconda3\\lib\\site-packages (from lightgbm) (0.35.1)\n",
      "Requirement already satisfied: scikit-learn!=0.22.0 in c:\\users\\jyotsana\\anaconda3\\lib\\site-packages (from lightgbm) (0.23.2)\n",
      "Requirement already satisfied: scipy in c:\\users\\jyotsana\\anaconda3\\lib\\site-packages (from lightgbm) (1.5.2)\n",
      "Requirement already satisfied: numpy in c:\\users\\jyotsana\\anaconda3\\lib\\site-packages (from lightgbm) (1.19.2)\n",
      "Requirement already satisfied: joblib>=0.11 in c:\\users\\jyotsana\\anaconda3\\lib\\site-packages (from scikit-learn!=0.22.0->lightgbm) (0.17.0)\n",
      "Requirement already satisfied: threadpoolctl>=2.0.0 in c:\\users\\jyotsana\\anaconda3\\lib\\site-packages (from scikit-learn!=0.22.0->lightgbm) (2.1.0)\n",
      "Installing collected packages: lightgbm\n",
      "Successfully installed lightgbm-3.2.0\n"
     ]
    }
   ],
   "source": [
    "!pip install lightgbm"
   ]
  },
  {
   "cell_type": "code",
   "execution_count": 190,
   "metadata": {},
   "outputs": [],
   "source": [
    "import lightgbm as lgb"
   ]
  },
  {
   "cell_type": "code",
   "execution_count": 191,
   "metadata": {},
   "outputs": [
    {
     "data": {
      "text/plain": [
       "LGBMClassifier()"
      ]
     },
     "execution_count": 191,
     "metadata": {},
     "output_type": "execute_result"
    }
   ],
   "source": [
    "lgbclf = lgb.LGBMClassifier()\n",
    "lgbclf.fit(x_train, y_train)\n"
   ]
  },
  {
   "cell_type": "code",
   "execution_count": 192,
   "metadata": {},
   "outputs": [
    {
     "data": {
      "text/plain": [
       "0.9811248779296875"
      ]
     },
     "execution_count": 192,
     "metadata": {},
     "output_type": "execute_result"
    }
   ],
   "source": [
    "lgbclf.score(x_test, y_test)"
   ]
  },
  {
   "cell_type": "code",
   "execution_count": 193,
   "metadata": {},
   "outputs": [],
   "source": [
    "y_predlgb=lgbclf.predict(x2)"
   ]
  },
  {
   "cell_type": "code",
   "execution_count": 194,
   "metadata": {},
   "outputs": [],
   "source": [
    "y_predlgbn = map(con, y_predlgb)"
   ]
  },
  {
   "cell_type": "code",
   "execution_count": 195,
   "metadata": {},
   "outputs": [
    {
     "data": {
      "text/plain": [
       "array(['Yes', 'Yes', 'Yes', ..., 'Yes', 'Yes', 'Yes'], dtype='<U3')"
      ]
     },
     "execution_count": 195,
     "metadata": {},
     "output_type": "execute_result"
    }
   ],
   "source": [
    "y_predlgbn =list(y_predlgbn )\n",
    "y_predlgbn =np.asarray(y_predlgbn )\n",
    "y_predlgbn "
   ]
  },
  {
   "cell_type": "code",
   "execution_count": 196,
   "metadata": {},
   "outputs": [],
   "source": [
    "submit3 = pd.DataFrame(test[\"Complaint_ID\"])\n",
    "submit3[\"Timely response?\"]=y_prednb_testn\n",
    "submit3.rename(columns = {'Complaint_ID':'Complaint ID'}, inplace = True)"
   ]
  },
  {
   "cell_type": "code",
   "execution_count": 197,
   "metadata": {},
   "outputs": [
    {
     "data": {
      "text/html": [
       "<div>\n",
       "<style scoped>\n",
       "    .dataframe tbody tr th:only-of-type {\n",
       "        vertical-align: middle;\n",
       "    }\n",
       "\n",
       "    .dataframe tbody tr th {\n",
       "        vertical-align: top;\n",
       "    }\n",
       "\n",
       "    .dataframe thead th {\n",
       "        text-align: right;\n",
       "    }\n",
       "</style>\n",
       "<table border=\"1\" class=\"dataframe\">\n",
       "  <thead>\n",
       "    <tr style=\"text-align: right;\">\n",
       "      <th></th>\n",
       "      <th>Complaint ID</th>\n",
       "      <th>Timely response?</th>\n",
       "    </tr>\n",
       "  </thead>\n",
       "  <tbody>\n",
       "    <tr>\n",
       "      <th>0</th>\n",
       "      <td>3839774</td>\n",
       "      <td>Yes</td>\n",
       "    </tr>\n",
       "    <tr>\n",
       "      <th>1</th>\n",
       "      <td>2139831</td>\n",
       "      <td>Yes</td>\n",
       "    </tr>\n",
       "    <tr>\n",
       "      <th>2</th>\n",
       "      <td>4084614</td>\n",
       "      <td>Yes</td>\n",
       "    </tr>\n",
       "    <tr>\n",
       "      <th>3</th>\n",
       "      <td>3461505</td>\n",
       "      <td>Yes</td>\n",
       "    </tr>\n",
       "    <tr>\n",
       "      <th>4</th>\n",
       "      <td>2854433</td>\n",
       "      <td>Yes</td>\n",
       "    </tr>\n",
       "    <tr>\n",
       "      <th>...</th>\n",
       "      <td>...</td>\n",
       "      <td>...</td>\n",
       "    </tr>\n",
       "    <tr>\n",
       "      <th>459689</th>\n",
       "      <td>342950</td>\n",
       "      <td>Yes</td>\n",
       "    </tr>\n",
       "    <tr>\n",
       "      <th>459690</th>\n",
       "      <td>2599961</td>\n",
       "      <td>Yes</td>\n",
       "    </tr>\n",
       "    <tr>\n",
       "      <th>459691</th>\n",
       "      <td>3824572</td>\n",
       "      <td>Yes</td>\n",
       "    </tr>\n",
       "    <tr>\n",
       "      <th>459692</th>\n",
       "      <td>1418953</td>\n",
       "      <td>Yes</td>\n",
       "    </tr>\n",
       "    <tr>\n",
       "      <th>459693</th>\n",
       "      <td>3532501</td>\n",
       "      <td>Yes</td>\n",
       "    </tr>\n",
       "  </tbody>\n",
       "</table>\n",
       "<p>459694 rows × 2 columns</p>\n",
       "</div>"
      ],
      "text/plain": [
       "        Complaint ID Timely response?\n",
       "0            3839774              Yes\n",
       "1            2139831              Yes\n",
       "2            4084614              Yes\n",
       "3            3461505              Yes\n",
       "4            2854433              Yes\n",
       "...              ...              ...\n",
       "459689        342950              Yes\n",
       "459690       2599961              Yes\n",
       "459691       3824572              Yes\n",
       "459692       1418953              Yes\n",
       "459693       3532501              Yes\n",
       "\n",
       "[459694 rows x 2 columns]"
      ]
     },
     "execution_count": 197,
     "metadata": {},
     "output_type": "execute_result"
    }
   ],
   "source": [
    "submit3"
   ]
  },
  {
   "cell_type": "code",
   "execution_count": 198,
   "metadata": {},
   "outputs": [],
   "source": [
    "submit3.to_csv(\"submission4.csv\", index=False)"
   ]
  },
  {
   "cell_type": "code",
   "execution_count": 200,
   "metadata": {},
   "outputs": [],
   "source": [
    "final = pd.DataFrame(test[\"Complaint_ID\"])\n"
   ]
  },
  {
   "cell_type": "code",
   "execution_count": 201,
   "metadata": {},
   "outputs": [],
   "source": [
    "final[\"rf\"]=y_pred2n"
   ]
  },
  {
   "cell_type": "code",
   "execution_count": 202,
   "metadata": {},
   "outputs": [],
   "source": [
    "final[\"dt\"]=y_pred_entropy_testn"
   ]
  },
  {
   "cell_type": "code",
   "execution_count": 203,
   "metadata": {},
   "outputs": [],
   "source": [
    "final[\"nb\"]=y_prednb_testn"
   ]
  },
  {
   "cell_type": "code",
   "execution_count": 204,
   "metadata": {},
   "outputs": [],
   "source": [
    "final[\"lgb\"]=y_predlgbn"
   ]
  },
  {
   "cell_type": "code",
   "execution_count": 206,
   "metadata": {},
   "outputs": [],
   "source": [
    "final['Count1'] = (final[[\"rf\",\"dt\",\"nb\",\"lgb\"]] == 'Yes').sum(axis=1)"
   ]
  },
  {
   "cell_type": "code",
   "execution_count": 207,
   "metadata": {},
   "outputs": [],
   "source": [
    "final['Count2'] = (final[[\"rf\",\"dt\",\"nb\",\"lgb\"]] == 'No').sum(axis=1)"
   ]
  },
  {
   "cell_type": "code",
   "execution_count": 212,
   "metadata": {},
   "outputs": [],
   "source": [
    "def ans(c1,c2):\n",
    "    if(c1>c2):\n",
    "        return \"Yes\"\n",
    "    else:\n",
    "        return \"No\"\n"
   ]
  },
  {
   "cell_type": "code",
   "execution_count": 217,
   "metadata": {},
   "outputs": [],
   "source": [
    "q=map(ans,final['Count1'],final['Count2'])"
   ]
  },
  {
   "cell_type": "code",
   "execution_count": 218,
   "metadata": {},
   "outputs": [
    {
     "data": {
      "text/plain": [
       "<map at 0x1b250e57a30>"
      ]
     },
     "execution_count": 218,
     "metadata": {},
     "output_type": "execute_result"
    }
   ],
   "source": [
    "q"
   ]
  },
  {
   "cell_type": "code",
   "execution_count": 219,
   "metadata": {},
   "outputs": [
    {
     "data": {
      "text/plain": [
       "0         Yes\n",
       "1         Yes\n",
       "2         Yes\n",
       "3         Yes\n",
       "4         Yes\n",
       "         ... \n",
       "459689    Yes\n",
       "459690    Yes\n",
       "459691    Yes\n",
       "459692    Yes\n",
       "459693    Yes\n",
       "Name: Timely response?, Length: 459694, dtype: object"
      ]
     },
     "execution_count": 219,
     "metadata": {},
     "output_type": "execute_result"
    }
   ],
   "source": [
    "final[\"Timely response?\"]=list(q )\n",
    "final[\"Timely response?\"] =np.asarray(final[\"Timely response?\"] )\n",
    "final[\"Timely response?\"]"
   ]
  },
  {
   "cell_type": "code",
   "execution_count": 224,
   "metadata": {},
   "outputs": [],
   "source": [
    "final2= pd.DataFrame(test[\"Complaint_ID\"])\n"
   ]
  },
  {
   "cell_type": "code",
   "execution_count": 225,
   "metadata": {},
   "outputs": [
    {
     "data": {
      "text/html": [
       "<div>\n",
       "<style scoped>\n",
       "    .dataframe tbody tr th:only-of-type {\n",
       "        vertical-align: middle;\n",
       "    }\n",
       "\n",
       "    .dataframe tbody tr th {\n",
       "        vertical-align: top;\n",
       "    }\n",
       "\n",
       "    .dataframe thead th {\n",
       "        text-align: right;\n",
       "    }\n",
       "</style>\n",
       "<table border=\"1\" class=\"dataframe\">\n",
       "  <thead>\n",
       "    <tr style=\"text-align: right;\">\n",
       "      <th></th>\n",
       "      <th>Complaint ID</th>\n",
       "      <th>Timely response?</th>\n",
       "    </tr>\n",
       "  </thead>\n",
       "  <tbody>\n",
       "    <tr>\n",
       "      <th>0</th>\n",
       "      <td>3839774</td>\n",
       "      <td>Yes</td>\n",
       "    </tr>\n",
       "    <tr>\n",
       "      <th>1</th>\n",
       "      <td>2139831</td>\n",
       "      <td>Yes</td>\n",
       "    </tr>\n",
       "    <tr>\n",
       "      <th>2</th>\n",
       "      <td>4084614</td>\n",
       "      <td>Yes</td>\n",
       "    </tr>\n",
       "    <tr>\n",
       "      <th>3</th>\n",
       "      <td>3461505</td>\n",
       "      <td>Yes</td>\n",
       "    </tr>\n",
       "    <tr>\n",
       "      <th>4</th>\n",
       "      <td>2854433</td>\n",
       "      <td>Yes</td>\n",
       "    </tr>\n",
       "    <tr>\n",
       "      <th>...</th>\n",
       "      <td>...</td>\n",
       "      <td>...</td>\n",
       "    </tr>\n",
       "    <tr>\n",
       "      <th>459689</th>\n",
       "      <td>342950</td>\n",
       "      <td>Yes</td>\n",
       "    </tr>\n",
       "    <tr>\n",
       "      <th>459690</th>\n",
       "      <td>2599961</td>\n",
       "      <td>Yes</td>\n",
       "    </tr>\n",
       "    <tr>\n",
       "      <th>459691</th>\n",
       "      <td>3824572</td>\n",
       "      <td>Yes</td>\n",
       "    </tr>\n",
       "    <tr>\n",
       "      <th>459692</th>\n",
       "      <td>1418953</td>\n",
       "      <td>Yes</td>\n",
       "    </tr>\n",
       "    <tr>\n",
       "      <th>459693</th>\n",
       "      <td>3532501</td>\n",
       "      <td>Yes</td>\n",
       "    </tr>\n",
       "  </tbody>\n",
       "</table>\n",
       "<p>459694 rows × 2 columns</p>\n",
       "</div>"
      ],
      "text/plain": [
       "        Complaint ID Timely response?\n",
       "0            3839774              Yes\n",
       "1            2139831              Yes\n",
       "2            4084614              Yes\n",
       "3            3461505              Yes\n",
       "4            2854433              Yes\n",
       "...              ...              ...\n",
       "459689        342950              Yes\n",
       "459690       2599961              Yes\n",
       "459691       3824572              Yes\n",
       "459692       1418953              Yes\n",
       "459693       3532501              Yes\n",
       "\n",
       "[459694 rows x 2 columns]"
      ]
     },
     "execution_count": 225,
     "metadata": {},
     "output_type": "execute_result"
    }
   ],
   "source": [
    "final2[\"Timely response?\"]=final[\"Timely response?\"]\n",
    "final2.rename(columns = {'Complaint_ID':'Complaint ID'}, inplace = True)\n",
    "final2"
   ]
  },
  {
   "cell_type": "code",
   "execution_count": 222,
   "metadata": {},
   "outputs": [],
   "source": [
    "final2.to_csv(\"submission5.csv\", index=False)"
   ]
  },
  {
   "cell_type": "code",
   "execution_count": null,
   "metadata": {},
   "outputs": [],
   "source": []
  }
 ],
 "metadata": {
  "kernelspec": {
   "display_name": "Python 3",
   "language": "python",
   "name": "python3"
  },
  "language_info": {
   "codemirror_mode": {
    "name": "ipython",
    "version": 3
   },
   "file_extension": ".py",
   "mimetype": "text/x-python",
   "name": "python",
   "nbconvert_exporter": "python",
   "pygments_lexer": "ipython3",
   "version": "3.8.5"
  }
 },
 "nbformat": 4,
 "nbformat_minor": 4
}
